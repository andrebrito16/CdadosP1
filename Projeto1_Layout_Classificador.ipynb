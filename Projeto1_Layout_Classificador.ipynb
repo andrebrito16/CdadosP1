{
 "cells": [
  {
   "cell_type": "markdown",
   "source": [
    "# Projeto 1 - Ciência dos Dados"
   ],
   "metadata": {}
  },
  {
   "cell_type": "markdown",
   "source": [
    "Nome: André Brito\n",
    "\n",
    "Nome: Gabriela Albuquerque"
   ],
   "metadata": {}
  },
  {
   "cell_type": "markdown",
   "source": [
    "Atenção: Serão permitidos grupos de três pessoas, mas com uma rubrica mais exigente. Grupos deste tamanho precisarão fazer um questionário de avaliação de trabalho em equipe"
   ],
   "metadata": {}
  },
  {
   "cell_type": "markdown",
   "source": [
    "___\n",
    "Carregando algumas bibliotecas:"
   ],
   "metadata": {}
  },
  {
   "cell_type": "code",
   "execution_count": 20,
   "source": [
    "%matplotlib inline\r\n",
    "import pandas as pd\r\n",
    "import matplotlib.pyplot as plt\r\n",
    "import numpy as np\r\n",
    "import os\r\n",
    "import re"
   ],
   "outputs": [],
   "metadata": {}
  },
  {
   "cell_type": "code",
   "execution_count": 21,
   "source": [
    "print('Esperamos trabalhar no diretório')\r\n",
    "print(os.getcwd())"
   ],
   "outputs": [
    {
     "output_type": "stream",
     "name": "stdout",
     "text": [
      "Esperamos trabalhar no diretório\n",
      "c:\\Users\\m_gab\\OneDrive\\Área de Trabalho\\Insper\\2 semestre\\Cdados\\Projeto 1\\CdadosP1\n"
     ]
    }
   ],
   "metadata": {
    "scrolled": false
   }
  },
  {
   "cell_type": "markdown",
   "source": [
    "Carregando a base de dados com os tweets classificados como relevantes e não relevantes:"
   ],
   "metadata": {}
  },
  {
   "cell_type": "code",
   "execution_count": 22,
   "source": [
    "def cleanup(text):\r\n",
    "    punctuation = '[!-.:?;]' # Note que os sinais [] são delimitadores de um conjunto.\r\n",
    "    pattern = re.compile(punctuation)\r\n",
    "    text_subbed = re.sub(pattern, '', text)\r\n",
    "    return text_subbed.strip()"
   ],
   "outputs": [],
   "metadata": {}
  },
  {
   "cell_type": "code",
   "execution_count": 23,
   "source": [
    "filename = 'iPhone 13.xlsx'"
   ],
   "outputs": [],
   "metadata": {}
  },
  {
   "cell_type": "code",
   "execution_count": 24,
   "source": [
    "train = pd.read_excel(filename)\r\n",
    "train.Treinamento = train['Treinamento'].apply(cleanup)\r\n",
    "train.head(5)"
   ],
   "outputs": [
    {
     "output_type": "execute_result",
     "data": {
      "text/html": [
       "<div>\n",
       "<style scoped>\n",
       "    .dataframe tbody tr th:only-of-type {\n",
       "        vertical-align: middle;\n",
       "    }\n",
       "\n",
       "    .dataframe tbody tr th {\n",
       "        vertical-align: top;\n",
       "    }\n",
       "\n",
       "    .dataframe thead th {\n",
       "        text-align: right;\n",
       "    }\n",
       "</style>\n",
       "<table border=\"1\" class=\"dataframe\">\n",
       "  <thead>\n",
       "    <tr style=\"text-align: right;\">\n",
       "      <th></th>\n",
       "      <th>Treinamento</th>\n",
       "      <th>Classificador</th>\n",
       "    </tr>\n",
       "  </thead>\n",
       "  <tbody>\n",
       "    <tr>\n",
       "      <th>0</th>\n",
       "      <td>alguém me da um iphone 13 to precisando 🥲</td>\n",
       "      <td>1</td>\n",
       "    </tr>\n",
       "    <tr>\n",
       "      <th>1</th>\n",
       "      <td>@vicmoura14 nem eu afinal aquele iphone 13 n v...</td>\n",
       "      <td>0</td>\n",
       "    </tr>\n",
       "    <tr>\n",
       "      <th>2</th>\n",
       "      <td>os outros 4 mentiram 😂 https//tco/vleieec9vm</td>\n",
       "      <td>0</td>\n",
       "    </tr>\n",
       "    <tr>\n",
       "      <th>3</th>\n",
       "      <td>@dosievil um macbook air 13 2 iphone 11 pro ma...</td>\n",
       "      <td>0</td>\n",
       "    </tr>\n",
       "    <tr>\n",
       "      <th>4</th>\n",
       "      <td>já tá curioso pelo iphone 13 https//tco/wk8ibo...</td>\n",
       "      <td>1</td>\n",
       "    </tr>\n",
       "  </tbody>\n",
       "</table>\n",
       "</div>"
      ],
      "text/plain": [
       "                                         Treinamento  Classificador\n",
       "0          alguém me da um iphone 13 to precisando 🥲              1\n",
       "1  @vicmoura14 nem eu afinal aquele iphone 13 n v...              0\n",
       "2       os outros 4 mentiram 😂 https//tco/vleieec9vm              0\n",
       "3  @dosievil um macbook air 13 2 iphone 11 pro ma...              0\n",
       "4  já tá curioso pelo iphone 13 https//tco/wk8ibo...              1"
      ]
     },
     "metadata": {},
     "execution_count": 24
    }
   ],
   "metadata": {}
  },
  {
   "cell_type": "code",
   "execution_count": 25,
   "source": [
    "test = pd.read_excel(filename, sheet_name = 'Teste')\r\n",
    "test.Teste = test['Teste'].apply(cleanup)\r\n",
    "test.head(5)"
   ],
   "outputs": [
    {
     "output_type": "execute_result",
     "data": {
      "text/html": [
       "<div>\n",
       "<style scoped>\n",
       "    .dataframe tbody tr th:only-of-type {\n",
       "        vertical-align: middle;\n",
       "    }\n",
       "\n",
       "    .dataframe tbody tr th {\n",
       "        vertical-align: top;\n",
       "    }\n",
       "\n",
       "    .dataframe thead th {\n",
       "        text-align: right;\n",
       "    }\n",
       "</style>\n",
       "<table border=\"1\" class=\"dataframe\">\n",
       "  <thead>\n",
       "    <tr style=\"text-align: right;\">\n",
       "      <th></th>\n",
       "      <th>Teste</th>\n",
       "      <th>Classificador</th>\n",
       "    </tr>\n",
       "  </thead>\n",
       "  <tbody>\n",
       "    <tr>\n",
       "      <th>0</th>\n",
       "      <td>@felipeneto o iphone 13 sem entrada de carrega...</td>\n",
       "      <td>1</td>\n",
       "    </tr>\n",
       "    <tr>\n",
       "      <th>1</th>\n",
       "      <td>iphone 13 n vir com entrada pra carregador e o...</td>\n",
       "      <td>1</td>\n",
       "    </tr>\n",
       "    <tr>\n",
       "      <th>2</th>\n",
       "      <td>iphone 13 nem lançou e eu já tô querendo comprar</td>\n",
       "      <td>1</td>\n",
       "    </tr>\n",
       "    <tr>\n",
       "      <th>3</th>\n",
       "      <td>iphone 13 vir sem entrada pra carregador te ob...</td>\n",
       "      <td>1</td>\n",
       "    </tr>\n",
       "    <tr>\n",
       "      <th>4</th>\n",
       "      <td>@kayanes7 @lara_ray002 @anonymouscrec poise ma...</td>\n",
       "      <td>0</td>\n",
       "    </tr>\n",
       "  </tbody>\n",
       "</table>\n",
       "</div>"
      ],
      "text/plain": [
       "                                               Teste  Classificador\n",
       "0  @felipeneto o iphone 13 sem entrada de carrega...              1\n",
       "1  iphone 13 n vir com entrada pra carregador e o...              1\n",
       "2   iphone 13 nem lançou e eu já tô querendo comprar              1\n",
       "3  iphone 13 vir sem entrada pra carregador te ob...              1\n",
       "4  @kayanes7 @lara_ray002 @anonymouscrec poise ma...              0"
      ]
     },
     "metadata": {},
     "execution_count": 25
    }
   ],
   "metadata": {}
  },
  {
   "cell_type": "markdown",
   "source": [
    "___\n",
    "## Classificador automático de sentimento\n"
   ],
   "metadata": {}
  },
  {
   "cell_type": "markdown",
   "source": [
    "Faça aqui uma descrição do seu produto e o que considerou como relevante ou não relevante na classificação dos tweets.\n",
    "\n",
    "O produto é o iPhone 13, que tem o lançamento previsto para o mês de setembro de 2021. Foram considerados relevantes tweets que falam algo sobre o aparelho mas sem nenhum tom de piada ou meme."
   ],
   "metadata": {}
  },
  {
   "cell_type": "markdown",
   "source": [
    "___\n",
    "### Montando um Classificador Naive-Bayes\n",
    "\n",
    "Considerando apenas as mensagens da planilha Treinamento, ensine  seu classificador."
   ],
   "metadata": {}
  },
  {
   "cell_type": "code",
   "execution_count": 26,
   "source": [
    "# Separar os Tweets em categorias\r\n",
    "iPhone13_relevante = train[train['Classificador'] == 1]\r\n",
    "iPhone13_nao_relevante = train[train['Classificador'] == 0]"
   ],
   "outputs": [],
   "metadata": {}
  },
  {
   "cell_type": "code",
   "execution_count": 27,
   "source": [
    "# Salvamento dos tweets como strings\r\n",
    "Tweets_relevantes_Text = \"\"\r\n",
    "for i in iPhone13_relevante['Treinamento']:\r\n",
    "  Tweets_relevantes_Text += str(i)\r\n",
    "\r\n",
    "\r\n",
    "Tweets_nao_relevantes_Text = \"\"\r\n",
    "for i in iPhone13_nao_relevante['Treinamento']:\r\n",
    "  Tweets_nao_relevantes_Text += str(i)\r\n",
    "\r\n",
    "todos_tweets_relevantes = Tweets_relevantes_Text.split()\r\n",
    "todos_tweets_irrelevantes = Tweets_nao_relevantes_Text.split()\r\n",
    "\r\n",
    "serie_tweets_relevantes = pd.Series(todos_tweets_relevantes)\r\n",
    "serie_tweets_irrelevantes = pd.Series(todos_tweets_irrelevantes)\r\n"
   ],
   "outputs": [],
   "metadata": {}
  },
  {
   "cell_type": "code",
   "execution_count": 28,
   "source": [
    "tabela_relevantes = serie_tweets_relevantes.value_counts()\r\n",
    "tabela_relevantes"
   ],
   "outputs": [
    {
     "output_type": "execute_result",
     "data": {
      "text/plain": [
       "iphone          167\n",
       "13              162\n",
       "o               128\n",
       "de               83\n",
       "que              74\n",
       "               ... \n",
       "podem             1\n",
       "bicho             1\n",
       "3ª                1\n",
       "elon              1\n",
       "olhardigital      1\n",
       "Length: 1095, dtype: int64"
      ]
     },
     "metadata": {},
     "execution_count": 28
    }
   ],
   "metadata": {}
  },
  {
   "cell_type": "code",
   "execution_count": 29,
   "source": [
    "tabela_relevantes_relativa = serie_tweets_relevantes.value_counts(True)\r\n",
    "tabela_relevantes_relativa"
   ],
   "outputs": [
    {
     "output_type": "execute_result",
     "data": {
      "text/plain": [
       "iphone          0.051496\n",
       "13              0.049954\n",
       "o               0.039470\n",
       "de              0.025594\n",
       "que             0.022818\n",
       "                  ...   \n",
       "podem           0.000308\n",
       "bicho           0.000308\n",
       "3ª              0.000308\n",
       "elon            0.000308\n",
       "olhardigital    0.000308\n",
       "Length: 1095, dtype: float64"
      ]
     },
     "metadata": {},
     "execution_count": 29
    }
   ],
   "metadata": {}
  },
  {
   "cell_type": "code",
   "execution_count": 30,
   "source": [
    "tabela_irrelevantes = serie_tweets_irrelevantes.value_counts()\r\n",
    "tabela_irrelevantes"
   ],
   "outputs": [
    {
     "output_type": "execute_result",
     "data": {
      "text/plain": [
       "o                  106\n",
       "iphone             104\n",
       "13                  85\n",
       "do                  54\n",
       "e                   41\n",
       "                  ... \n",
       "harry                1\n",
       "fudido@jnkdress      1\n",
       "krl                  1\n",
       "constata             1\n",
       "mesmo                1\n",
       "Length: 667, dtype: int64"
      ]
     },
     "metadata": {},
     "execution_count": 30
    }
   ],
   "metadata": {}
  },
  {
   "cell_type": "code",
   "execution_count": 31,
   "source": [
    "tabela_irrelevantes_relativa = serie_tweets_irrelevantes.value_counts(True)\r\n",
    "tabela_irrelevantes_relativa"
   ],
   "outputs": [
    {
     "output_type": "execute_result",
     "data": {
      "text/plain": [
       "o                  0.055381\n",
       "iphone             0.054336\n",
       "13                 0.044410\n",
       "do                 0.028213\n",
       "e                  0.021421\n",
       "                     ...   \n",
       "harry              0.000522\n",
       "fudido@jnkdress    0.000522\n",
       "krl                0.000522\n",
       "constata           0.000522\n",
       "mesmo              0.000522\n",
       "Length: 667, dtype: float64"
      ]
     },
     "metadata": {},
     "execution_count": 31
    }
   ],
   "metadata": {}
  },
  {
   "cell_type": "code",
   "execution_count": 32,
   "source": [
    "tweets = Tweets_relevantes_Text + Tweets_nao_relevantes_Text\r\n",
    "\r\n",
    "todos_tweets = tweets.split()\r\n",
    "\r\n",
    "serie_todos_tweets = pd.Series(todos_tweets)\r\n"
   ],
   "outputs": [],
   "metadata": {}
  },
  {
   "cell_type": "code",
   "execution_count": 33,
   "source": [
    "tabela_tweets = serie_todos_tweets.value_counts()\r\n",
    "tabela_tweets"
   ],
   "outputs": [
    {
     "output_type": "execute_result",
     "data": {
      "text/plain": [
       "iphone              271\n",
       "13                  247\n",
       "o                   234\n",
       "de                  117\n",
       "e                   107\n",
       "                   ... \n",
       "@lojinhadoiphone      1\n",
       "entregas              1\n",
       "13novos               1\n",
       "parei                 1\n",
       "adm                   1\n",
       "Length: 1536, dtype: int64"
      ]
     },
     "metadata": {},
     "execution_count": 33
    }
   ],
   "metadata": {}
  },
  {
   "cell_type": "code",
   "execution_count": 34,
   "source": [
    "tabela_tweets_relativa = serie_todos_tweets.value_counts(True)\r\n",
    "tabela_tweets_relativa"
   ],
   "outputs": [
    {
     "output_type": "execute_result",
     "data": {
      "text/plain": [
       "iphone              0.052560\n",
       "13                  0.047905\n",
       "o                   0.045384\n",
       "de                  0.022692\n",
       "e                   0.020753\n",
       "                      ...   \n",
       "@lojinhadoiphone    0.000194\n",
       "entregas            0.000194\n",
       "13novos             0.000194\n",
       "parei               0.000194\n",
       "adm                 0.000194\n",
       "Length: 1536, dtype: float64"
      ]
     },
     "metadata": {},
     "execution_count": 34
    }
   ],
   "metadata": {}
  },
  {
   "cell_type": "code",
   "execution_count": 35,
   "source": [
    "def suavizacao_laplace(palavra, classificao):\r\n",
    "    # Classificação para irrelevante\r\n",
    "    if classificao == 0:\r\n",
    "      if palavra in tabela_irrelevantes:\r\n",
    "        return (tabela_irrelevantes[palavra] + 1) / (tabela_irrelevantes.sum() + tabela_tweets.sum())\r\n",
    "      else:\r\n",
    "        return 1 / (tabela_irrelevantes.sum() + tabela_relevantes.sum())\r\n",
    "      \r\n",
    "    # Classificação para relevante\r\n",
    "    if classificao == 1:\r\n",
    "      if palavra in tabela_relevantes:\r\n",
    "        return (tabela_relevantes[palavra] + 1) / (tabela_relevantes.sum() + tabela_tweets.sum())\r\n",
    "      else:\r\n",
    "        return 1 / (tabela_relevantes.sum() + tabela_tweets.sum())\r\n",
    "      "
   ],
   "outputs": [],
   "metadata": {}
  },
  {
   "cell_type": "code",
   "execution_count": 36,
   "source": [
    "def calcula_probabilidade(tweet):\r\n",
    "  probRelevante_laplace = []\r\n",
    "  probIrrelevante_laplace = []\r\n",
    "  probRelevante = 1\r\n",
    "  probIrrelevante = 1\r\n",
    "\r\n",
    "  for i in tweet:\r\n",
    "    probIrrelevante_laplace.append(suavizacao_laplace(i, 0))\r\n",
    "    probRelevante_laplace.append(suavizacao_laplace(i, 1))\r\n",
    "\r\n",
    "  for i in probIrrelevante_laplace:\r\n",
    "    probIrrelevante *= i\r\n",
    "  \r\n",
    "  for i in probRelevante_laplace:\r\n",
    "    probRelevante *= i\r\n",
    "\r\n",
    "  if probRelevante > probIrrelevante:\r\n",
    "    return 1\r\n",
    "  else:\r\n",
    "    return 0\r\n",
    "\r\n",
    "  "
   ],
   "outputs": [],
   "metadata": {}
  },
  {
   "cell_type": "code",
   "execution_count": 37,
   "source": [
    "def classificador(tweets):\r\n",
    "  lista_tweets = []\r\n",
    "  lista_tweets_prob = []\r\n",
    "\r\n",
    "  for i in tweets['Teste']:\r\n",
    "    lista_tweets.append(i.lower())\r\n",
    "  \r\n",
    "  for i in lista_tweets:\r\n",
    "    tweets_splitados = i.strip().split()\r\n",
    "    lista_tweets_prob.append(calcula_probabilidade(tweets_splitados))\r\n",
    "\r\n",
    "  return lista_tweets_prob"
   ],
   "outputs": [],
   "metadata": {}
  },
  {
   "cell_type": "markdown",
   "source": [
    "___\n",
    "### Verificando a performance do Classificador\n",
    "\n",
    "Agora você deve testar o seu classificador com a base de Testes."
   ],
   "metadata": {}
  },
  {
   "cell_type": "code",
   "execution_count": 38,
   "source": [
    "resultado = classificador(test)\r\n",
    "\r\n",
    "test['Classificador Naive Bias'] = resultado\r\n",
    "test.head(30)"
   ],
   "outputs": [
    {
     "output_type": "execute_result",
     "data": {
      "text/html": [
       "<div>\n",
       "<style scoped>\n",
       "    .dataframe tbody tr th:only-of-type {\n",
       "        vertical-align: middle;\n",
       "    }\n",
       "\n",
       "    .dataframe tbody tr th {\n",
       "        vertical-align: top;\n",
       "    }\n",
       "\n",
       "    .dataframe thead th {\n",
       "        text-align: right;\n",
       "    }\n",
       "</style>\n",
       "<table border=\"1\" class=\"dataframe\">\n",
       "  <thead>\n",
       "    <tr style=\"text-align: right;\">\n",
       "      <th></th>\n",
       "      <th>Teste</th>\n",
       "      <th>Classificador</th>\n",
       "      <th>Classificador Naive Bias</th>\n",
       "    </tr>\n",
       "  </thead>\n",
       "  <tbody>\n",
       "    <tr>\n",
       "      <th>0</th>\n",
       "      <td>@felipeneto o iphone 13 sem entrada de carrega...</td>\n",
       "      <td>1</td>\n",
       "      <td>1</td>\n",
       "    </tr>\n",
       "    <tr>\n",
       "      <th>1</th>\n",
       "      <td>iphone 13 n vir com entrada pra carregador e o...</td>\n",
       "      <td>1</td>\n",
       "      <td>1</td>\n",
       "    </tr>\n",
       "    <tr>\n",
       "      <th>2</th>\n",
       "      <td>iphone 13 nem lançou e eu já tô querendo comprar</td>\n",
       "      <td>1</td>\n",
       "      <td>1</td>\n",
       "    </tr>\n",
       "    <tr>\n",
       "      <th>3</th>\n",
       "      <td>iphone 13 vir sem entrada pra carregador te ob...</td>\n",
       "      <td>1</td>\n",
       "      <td>1</td>\n",
       "    </tr>\n",
       "    <tr>\n",
       "      <th>4</th>\n",
       "      <td>@kayanes7 @lara_ray002 @anonymouscrec poise ma...</td>\n",
       "      <td>0</td>\n",
       "      <td>1</td>\n",
       "    </tr>\n",
       "    <tr>\n",
       "      <th>5</th>\n",
       "      <td>ai vocês que são ricos e vão trocar de iphone ...</td>\n",
       "      <td>0</td>\n",
       "      <td>1</td>\n",
       "    </tr>\n",
       "    <tr>\n",
       "      <th>6</th>\n",
       "      <td>@jotaenii7 cnf iphone 13 vai chegar</td>\n",
       "      <td>1</td>\n",
       "      <td>1</td>\n",
       "    </tr>\n",
       "    <tr>\n",
       "      <th>7</th>\n",
       "      <td>@joaquinteixeira programação dia07vaisergigant...</td>\n",
       "      <td>0</td>\n",
       "      <td>0</td>\n",
       "    </tr>\n",
       "    <tr>\n",
       "      <th>8</th>\n",
       "      <td>comunicação por satélite do iphone 13 será exc...</td>\n",
       "      <td>1</td>\n",
       "      <td>1</td>\n",
       "    </tr>\n",
       "    <tr>\n",
       "      <th>9</th>\n",
       "      <td>@ruivo367 @_lasg @mariliamoscou e várias outra...</td>\n",
       "      <td>0</td>\n",
       "      <td>1</td>\n",
       "    </tr>\n",
       "    <tr>\n",
       "      <th>10</th>\n",
       "      <td>quem ai vai comprar o iphone 13</td>\n",
       "      <td>1</td>\n",
       "      <td>0</td>\n",
       "    </tr>\n",
       "    <tr>\n",
       "      <th>11</th>\n",
       "      <td>@_cameraman_13 @viniccius13 vou comprar 13 iph...</td>\n",
       "      <td>1</td>\n",
       "      <td>1</td>\n",
       "    </tr>\n",
       "    <tr>\n",
       "      <th>12</th>\n",
       "      <td>eu agora esperando o anonymous vazar o cartão ...</td>\n",
       "      <td>0</td>\n",
       "      <td>0</td>\n",
       "    </tr>\n",
       "    <tr>\n",
       "      <th>13</th>\n",
       "      <td>@felipeneto felipe pq tu não compra o iphone 1...</td>\n",
       "      <td>1</td>\n",
       "      <td>1</td>\n",
       "    </tr>\n",
       "    <tr>\n",
       "      <th>14</th>\n",
       "      <td>só se for o iphone 13 né melhor me dar um carr...</td>\n",
       "      <td>1</td>\n",
       "      <td>1</td>\n",
       "    </tr>\n",
       "    <tr>\n",
       "      <th>15</th>\n",
       "      <td>gente e o iphone 13 que nao tem entrada pra ca...</td>\n",
       "      <td>1</td>\n",
       "      <td>1</td>\n",
       "    </tr>\n",
       "    <tr>\n",
       "      <th>16</th>\n",
       "      <td>@chicobarney chico será que meu iphone está qu...</td>\n",
       "      <td>0</td>\n",
       "      <td>1</td>\n",
       "    </tr>\n",
       "    <tr>\n",
       "      <th>17</th>\n",
       "      <td>@vlucasrocha quero q vaze o cartão do bolso pr...</td>\n",
       "      <td>0</td>\n",
       "      <td>0</td>\n",
       "    </tr>\n",
       "    <tr>\n",
       "      <th>18</th>\n",
       "      <td>a apple já podia lançar o iphone 13 despachems...</td>\n",
       "      <td>0</td>\n",
       "      <td>1</td>\n",
       "    </tr>\n",
       "    <tr>\n",
       "      <th>19</th>\n",
       "      <td>o iphone 13 vai lançar mas ex a questao  o 12 ...</td>\n",
       "      <td>1</td>\n",
       "      <td>1</td>\n",
       "    </tr>\n",
       "    <tr>\n",
       "      <th>20</th>\n",
       "      <td>apple marca lançamento do iphone 13 em 14 de s...</td>\n",
       "      <td>1</td>\n",
       "      <td>1</td>\n",
       "    </tr>\n",
       "    <tr>\n",
       "      <th>21</th>\n",
       "      <td>comunicação por satélite do iphone 13 será exc...</td>\n",
       "      <td>1</td>\n",
       "      <td>1</td>\n",
       "    </tr>\n",
       "    <tr>\n",
       "      <th>22</th>\n",
       "      <td>new post capas de silicone apple aparecem em v...</td>\n",
       "      <td>1</td>\n",
       "      <td>1</td>\n",
       "    </tr>\n",
       "    <tr>\n",
       "      <th>23</th>\n",
       "      <td>é agora q os anonymous vaza a senha do cartão ...</td>\n",
       "      <td>0</td>\n",
       "      <td>0</td>\n",
       "    </tr>\n",
       "    <tr>\n",
       "      <th>24</th>\n",
       "      <td>mamae cade meu iphone 13 https//tco/xu8xbaxtid</td>\n",
       "      <td>1</td>\n",
       "      <td>0</td>\n",
       "    </tr>\n",
       "    <tr>\n",
       "      <th>25</th>\n",
       "      <td>spotify premium é melhor que um iphone 13 max sim</td>\n",
       "      <td>0</td>\n",
       "      <td>1</td>\n",
       "    </tr>\n",
       "    <tr>\n",
       "      <th>26</th>\n",
       "      <td>iphone 13 comunicação por satélite será uma re...</td>\n",
       "      <td>1</td>\n",
       "      <td>1</td>\n",
       "    </tr>\n",
       "    <tr>\n",
       "      <th>27</th>\n",
       "      <td>eu te amo tanto mais tanto que se um dia me of...</td>\n",
       "      <td>0</td>\n",
       "      <td>0</td>\n",
       "    </tr>\n",
       "    <tr>\n",
       "      <th>28</th>\n",
       "      <td>vou ficar acordado essa madruga vai que o anon...</td>\n",
       "      <td>0</td>\n",
       "      <td>0</td>\n",
       "    </tr>\n",
       "    <tr>\n",
       "      <th>29</th>\n",
       "      <td>acabei de lembrar q com 13 anos eu passei o me...</td>\n",
       "      <td>0</td>\n",
       "      <td>0</td>\n",
       "    </tr>\n",
       "  </tbody>\n",
       "</table>\n",
       "</div>"
      ],
      "text/plain": [
       "                                                Teste  Classificador  \\\n",
       "0   @felipeneto o iphone 13 sem entrada de carrega...              1   \n",
       "1   iphone 13 n vir com entrada pra carregador e o...              1   \n",
       "2    iphone 13 nem lançou e eu já tô querendo comprar              1   \n",
       "3   iphone 13 vir sem entrada pra carregador te ob...              1   \n",
       "4   @kayanes7 @lara_ray002 @anonymouscrec poise ma...              0   \n",
       "5   ai vocês que são ricos e vão trocar de iphone ...              0   \n",
       "6                 @jotaenii7 cnf iphone 13 vai chegar              1   \n",
       "7   @joaquinteixeira programação dia07vaisergigant...              0   \n",
       "8   comunicação por satélite do iphone 13 será exc...              1   \n",
       "9   @ruivo367 @_lasg @mariliamoscou e várias outra...              0   \n",
       "10                    quem ai vai comprar o iphone 13              1   \n",
       "11  @_cameraman_13 @viniccius13 vou comprar 13 iph...              1   \n",
       "12  eu agora esperando o anonymous vazar o cartão ...              0   \n",
       "13  @felipeneto felipe pq tu não compra o iphone 1...              1   \n",
       "14  só se for o iphone 13 né melhor me dar um carr...              1   \n",
       "15  gente e o iphone 13 que nao tem entrada pra ca...              1   \n",
       "16  @chicobarney chico será que meu iphone está qu...              0   \n",
       "17  @vlucasrocha quero q vaze o cartão do bolso pr...              0   \n",
       "18  a apple já podia lançar o iphone 13 despachems...              0   \n",
       "19  o iphone 13 vai lançar mas ex a questao  o 12 ...              1   \n",
       "20  apple marca lançamento do iphone 13 em 14 de s...              1   \n",
       "21  comunicação por satélite do iphone 13 será exc...              1   \n",
       "22  new post capas de silicone apple aparecem em v...              1   \n",
       "23  é agora q os anonymous vaza a senha do cartão ...              0   \n",
       "24     mamae cade meu iphone 13 https//tco/xu8xbaxtid              1   \n",
       "25  spotify premium é melhor que um iphone 13 max sim              0   \n",
       "26  iphone 13 comunicação por satélite será uma re...              1   \n",
       "27  eu te amo tanto mais tanto que se um dia me of...              0   \n",
       "28  vou ficar acordado essa madruga vai que o anon...              0   \n",
       "29  acabei de lembrar q com 13 anos eu passei o me...              0   \n",
       "\n",
       "    Classificador Naive Bias  \n",
       "0                          1  \n",
       "1                          1  \n",
       "2                          1  \n",
       "3                          1  \n",
       "4                          1  \n",
       "5                          1  \n",
       "6                          1  \n",
       "7                          0  \n",
       "8                          1  \n",
       "9                          1  \n",
       "10                         0  \n",
       "11                         1  \n",
       "12                         0  \n",
       "13                         1  \n",
       "14                         1  \n",
       "15                         1  \n",
       "16                         1  \n",
       "17                         0  \n",
       "18                         1  \n",
       "19                         1  \n",
       "20                         1  \n",
       "21                         1  \n",
       "22                         1  \n",
       "23                         0  \n",
       "24                         0  \n",
       "25                         1  \n",
       "26                         1  \n",
       "27                         0  \n",
       "28                         0  \n",
       "29                         0  "
      ]
     },
     "metadata": {},
     "execution_count": 38
    }
   ],
   "metadata": {}
  },
  {
   "cell_type": "code",
   "execution_count": null,
   "source": [],
   "outputs": [],
   "metadata": {}
  },
  {
   "cell_type": "code",
   "execution_count": null,
   "source": [],
   "outputs": [],
   "metadata": {}
  },
  {
   "cell_type": "markdown",
   "source": [
    "___\n",
    "### Concluindo"
   ],
   "metadata": {}
  },
  {
   "cell_type": "code",
   "execution_count": null,
   "source": [],
   "outputs": [],
   "metadata": {}
  },
  {
   "cell_type": "code",
   "execution_count": null,
   "source": [],
   "outputs": [],
   "metadata": {}
  },
  {
   "cell_type": "code",
   "execution_count": null,
   "source": [],
   "outputs": [],
   "metadata": {}
  },
  {
   "cell_type": "markdown",
   "source": [
    "___\n",
    "### Qualidade do Classificador a partir de novas separações dos tweets entre Treinamento e Teste\n",
    "\n",
    "Caso for fazer esse item do Projeto"
   ],
   "metadata": {}
  },
  {
   "cell_type": "code",
   "execution_count": null,
   "source": [],
   "outputs": [],
   "metadata": {}
  },
  {
   "cell_type": "code",
   "execution_count": null,
   "source": [],
   "outputs": [],
   "metadata": {}
  },
  {
   "cell_type": "code",
   "execution_count": null,
   "source": [],
   "outputs": [],
   "metadata": {}
  },
  {
   "cell_type": "markdown",
   "source": [
    "___\n",
    "## Aperfeiçoamento:\n",
    "\n",
    "Trabalhos que conseguirem pelo menos conceito B vão evoluir em conceito dependendo da quantidade de itens avançados:\n",
    "\n",
    "* IMPLEMENTOU outras limpezas e transformações que não afetem a qualidade da informação contida nos tweets. Ex: stemming, lemmatization, stopwords\n",
    "* CORRIGIU separação de espaços entre palavras e emojis ou entre emojis e emojis\n",
    "* CRIOU categorias intermediárias de relevância baseadas na probabilidade: ex.: muito relevante, relevante, neutro, irrelevante, muito irrelevante. Pelo menos quatro categorias, com adição de mais tweets na base, conforme enunciado. (OBRIGATÓRIO PARA TRIOS, sem contar como item avançado)\n",
    "* EXPLICOU porquê não pode usar o próprio classificador para gerar mais amostras de treinamento\n",
    "* PROPÔS diferentes cenários para Naïve Bayes fora do contexto do projeto\n",
    "* SUGERIU e EXPLICOU melhorias reais com indicações concretas de como implementar (indicar como fazer e indicar material de pesquisa)\n",
    "* FEZ o item 6. Qualidade do Classificador a partir de novas separações dos tweets entre Treinamento e Teste descrito no enunciado do projeto (OBRIGATÓRIO para conceitos A ou A+)"
   ],
   "metadata": {},
   "attachments": {}
  },
  {
   "cell_type": "markdown",
   "source": [
    "___\n",
    "## Referências"
   ],
   "metadata": {}
  },
  {
   "cell_type": "markdown",
   "source": [
    "[Naive Bayes and Text Classification](https://arxiv.org/pdf/1410.5329.pdf)  **Mais completo**\n",
    "\n",
    "[A practical explanation of a Naive Bayes Classifier](https://monkeylearn.com/blog/practical-explanation-naive-bayes-classifier/) **Mais simples**"
   ],
   "metadata": {}
  },
  {
   "cell_type": "code",
   "execution_count": null,
   "source": [],
   "outputs": [],
   "metadata": {}
  }
 ],
 "metadata": {
  "kernelspec": {
   "name": "python3",
   "display_name": "Python 3.8.5 64-bit ('m': conda)"
  },
  "language_info": {
   "codemirror_mode": {
    "name": "ipython",
    "version": 3
   },
   "file_extension": ".py",
   "mimetype": "text/x-python",
   "name": "python",
   "nbconvert_exporter": "python",
   "pygments_lexer": "ipython3",
   "version": "3.8.5"
  },
  "interpreter": {
   "hash": "4187dd356b72c9e15b0cb19a1de7f0feddbadb26d6f26f07134e2bc1296873f6"
  }
 },
 "nbformat": 4,
 "nbformat_minor": 4
}