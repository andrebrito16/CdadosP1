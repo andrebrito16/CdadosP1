{
 "cells": [
  {
   "cell_type": "markdown",
   "source": [
    "# Projeto 1 - Ciência dos Dados"
   ],
   "metadata": {}
  },
  {
   "cell_type": "markdown",
   "source": [
    "Nome: André Brito\n",
    "\n",
    "Nome: Gabriela Albuquerque"
   ],
   "metadata": {}
  },
  {
   "cell_type": "markdown",
   "source": [
    "Atenção: Serão permitidos grupos de três pessoas, mas com uma rubrica mais exigente. Grupos deste tamanho precisarão fazer um questionário de avaliação de trabalho em equipe"
   ],
   "metadata": {}
  },
  {
   "cell_type": "markdown",
   "source": [
    "___\n",
    "Carregando algumas bibliotecas:"
   ],
   "metadata": {}
  },
  {
   "cell_type": "code",
   "execution_count": 28,
   "source": [
    "%matplotlib inline\n",
    "import pandas as pd\n",
    "import matplotlib.pyplot as plt\n",
    "import numpy as np\n",
    "import os\n",
    "import re"
   ],
   "outputs": [],
   "metadata": {}
  },
  {
   "cell_type": "code",
   "execution_count": 29,
   "source": [
    "print('Esperamos trabalhar no diretório')\n",
    "print(os.getcwd())"
   ],
   "outputs": [
    {
     "output_type": "stream",
     "name": "stdout",
     "text": [
      "Esperamos trabalhar no diretório\n",
      "/home/andrebrito/InsperCd2021.2/Projeto1\n"
     ]
    }
   ],
   "metadata": {
    "scrolled": false
   }
  },
  {
   "cell_type": "markdown",
   "source": [
    "Carregando a base de dados com os tweets classificados como relevantes e não relevantes:"
   ],
   "metadata": {}
  },
  {
   "cell_type": "code",
   "execution_count": 30,
   "source": [
    "def cleanup(text):\n",
    "    punctuation = '[!-.:?;]' # Note que os sinais [] são delimitadores de um conjunto.\n",
    "    pattern = re.compile(punctuation)\n",
    "    text_subbed = re.sub(pattern, '', text)\n",
    "    return text_subbed.strip()"
   ],
   "outputs": [],
   "metadata": {}
  },
  {
   "cell_type": "code",
   "execution_count": 31,
   "source": [
    "filename = 'iPhone 13.xlsx'"
   ],
   "outputs": [],
   "metadata": {}
  },
  {
   "cell_type": "code",
   "execution_count": 32,
   "source": [
    "train = pd.read_excel(filename)\n",
    "train.Treinamento = train['Treinamento'].apply(cleanup)\n",
    "train.head(5)"
   ],
   "outputs": [
    {
     "output_type": "execute_result",
     "data": {
      "text/html": [
       "<div>\n",
       "<style scoped>\n",
       "    .dataframe tbody tr th:only-of-type {\n",
       "        vertical-align: middle;\n",
       "    }\n",
       "\n",
       "    .dataframe tbody tr th {\n",
       "        vertical-align: top;\n",
       "    }\n",
       "\n",
       "    .dataframe thead th {\n",
       "        text-align: right;\n",
       "    }\n",
       "</style>\n",
       "<table border=\"1\" class=\"dataframe\">\n",
       "  <thead>\n",
       "    <tr style=\"text-align: right;\">\n",
       "      <th></th>\n",
       "      <th>Treinamento</th>\n",
       "      <th>Classificador</th>\n",
       "    </tr>\n",
       "  </thead>\n",
       "  <tbody>\n",
       "    <tr>\n",
       "      <th>0</th>\n",
       "      <td>alguém me da um iphone 13 to precisando 🥲</td>\n",
       "      <td>1</td>\n",
       "    </tr>\n",
       "    <tr>\n",
       "      <th>1</th>\n",
       "      <td>@vicmoura14 nem eu afinal aquele iphone 13 n v...</td>\n",
       "      <td>0</td>\n",
       "    </tr>\n",
       "    <tr>\n",
       "      <th>2</th>\n",
       "      <td>os outros 4 mentiram 😂 https//tco/vleieec9vm</td>\n",
       "      <td>0</td>\n",
       "    </tr>\n",
       "    <tr>\n",
       "      <th>3</th>\n",
       "      <td>@dosievil um macbook air 13 2 iphone 11 pro ma...</td>\n",
       "      <td>0</td>\n",
       "    </tr>\n",
       "    <tr>\n",
       "      <th>4</th>\n",
       "      <td>já tá curioso pelo iphone 13 https//tco/wk8ibo...</td>\n",
       "      <td>1</td>\n",
       "    </tr>\n",
       "  </tbody>\n",
       "</table>\n",
       "</div>"
      ],
      "text/plain": [
       "                                         Treinamento  Classificador\n",
       "0          alguém me da um iphone 13 to precisando 🥲              1\n",
       "1  @vicmoura14 nem eu afinal aquele iphone 13 n v...              0\n",
       "2       os outros 4 mentiram 😂 https//tco/vleieec9vm              0\n",
       "3  @dosievil um macbook air 13 2 iphone 11 pro ma...              0\n",
       "4  já tá curioso pelo iphone 13 https//tco/wk8ibo...              1"
      ]
     },
     "metadata": {},
     "execution_count": 32
    }
   ],
   "metadata": {}
  },
  {
   "cell_type": "code",
   "execution_count": 33,
   "source": [
    "test = pd.read_excel(filename, sheet_name = 'Teste')\n",
    "test.Teste = test['Teste'].apply(cleanup)\n",
    "test.head(5)"
   ],
   "outputs": [
    {
     "output_type": "execute_result",
     "data": {
      "text/html": [
       "<div>\n",
       "<style scoped>\n",
       "    .dataframe tbody tr th:only-of-type {\n",
       "        vertical-align: middle;\n",
       "    }\n",
       "\n",
       "    .dataframe tbody tr th {\n",
       "        vertical-align: top;\n",
       "    }\n",
       "\n",
       "    .dataframe thead th {\n",
       "        text-align: right;\n",
       "    }\n",
       "</style>\n",
       "<table border=\"1\" class=\"dataframe\">\n",
       "  <thead>\n",
       "    <tr style=\"text-align: right;\">\n",
       "      <th></th>\n",
       "      <th>Teste</th>\n",
       "      <th>Classificador</th>\n",
       "    </tr>\n",
       "  </thead>\n",
       "  <tbody>\n",
       "    <tr>\n",
       "      <th>0</th>\n",
       "      <td>@felipeneto o iphone 13 sem entrada de carrega...</td>\n",
       "      <td>1</td>\n",
       "    </tr>\n",
       "    <tr>\n",
       "      <th>1</th>\n",
       "      <td>iphone 13 n vir com entrada pra carregador e o...</td>\n",
       "      <td>1</td>\n",
       "    </tr>\n",
       "    <tr>\n",
       "      <th>2</th>\n",
       "      <td>iphone 13 nem lançou e eu já tô querendo comprar</td>\n",
       "      <td>1</td>\n",
       "    </tr>\n",
       "    <tr>\n",
       "      <th>3</th>\n",
       "      <td>iphone 13 vir sem entrada pra carregador te ob...</td>\n",
       "      <td>1</td>\n",
       "    </tr>\n",
       "    <tr>\n",
       "      <th>4</th>\n",
       "      <td>@kayanes7 @lara_ray002 @anonymouscrec poise ma...</td>\n",
       "      <td>0</td>\n",
       "    </tr>\n",
       "  </tbody>\n",
       "</table>\n",
       "</div>"
      ],
      "text/plain": [
       "                                               Teste  Classificador\n",
       "0  @felipeneto o iphone 13 sem entrada de carrega...              1\n",
       "1  iphone 13 n vir com entrada pra carregador e o...              1\n",
       "2   iphone 13 nem lançou e eu já tô querendo comprar              1\n",
       "3  iphone 13 vir sem entrada pra carregador te ob...              1\n",
       "4  @kayanes7 @lara_ray002 @anonymouscrec poise ma...              0"
      ]
     },
     "metadata": {},
     "execution_count": 33
    }
   ],
   "metadata": {}
  },
  {
   "cell_type": "markdown",
   "source": [
    "___\n",
    "## Classificador automático de sentimento\n"
   ],
   "metadata": {}
  },
  {
   "cell_type": "markdown",
   "source": [
    "Faça aqui uma descrição do seu produto e o que considerou como relevante ou não relevante na classificação dos tweets.\n",
    "\n",
    "O produto é o iPhone 13, que tem o lançamento previsto para o mês de setembro de 2021. Foram considerados relevantes tweets que falam algo sobre o aparelho mas sem nenhum tom de piada ou meme."
   ],
   "metadata": {}
  },
  {
   "cell_type": "markdown",
   "source": [
    "___\n",
    "### Montando um Classificador Naive-Bayes\n",
    "\n",
    "Considerando apenas as mensagens da planilha Treinamento, ensine  seu classificador."
   ],
   "metadata": {}
  },
  {
   "cell_type": "code",
   "execution_count": 34,
   "source": [
    "# Separar os Tweets em categorias\n",
    "iPhone13_relevante = train[train['Classificador'] == 1]\n",
    "iPhone13_nao_relevante = train[train['Classificador'] == 0]"
   ],
   "outputs": [],
   "metadata": {}
  },
  {
   "cell_type": "code",
   "execution_count": 35,
   "source": [
    "# Salvamento dos tweets como strings\n",
    "Tweets_relevantes_Text = \"\"\n",
    "for i in iPhone13_relevante['Treinamento']:\n",
    "  Tweets_relevantes_Text += str(i)\n",
    "\n",
    "\n",
    "Tweets_nao_relevantes_Text = \"\"\n",
    "for i in iPhone13_nao_relevante['Treinamento']:\n",
    "  Tweets_nao_relevantes_Text += str(i)\n",
    "\n",
    "todos_tweets_relevantes = Tweets_relevantes_Text.split()\n",
    "todos_tweets_irrelevantes = Tweets_nao_relevantes_Text.split()\n",
    "\n",
    "serie_tweets_relevantes = pd.Series(todos_tweets_relevantes)\n",
    "serie_tweets_irrelevantes = pd.Series(todos_tweets_irrelevantes)\n"
   ],
   "outputs": [],
   "metadata": {}
  },
  {
   "cell_type": "code",
   "execution_count": 36,
   "source": [
    "tabela_relevantes = serie_tweets_relevantes.value_counts()\n",
    "tabela_relevantes"
   ],
   "outputs": [
    {
     "output_type": "execute_result",
     "data": {
      "text/plain": [
       "iphone                             167\n",
       "13                                 162\n",
       "o                                  128\n",
       "de                                  83\n",
       "que                                 74\n",
       "                                  ... \n",
       "“revolucionar”                       1\n",
       "https//tco/ui6ywtr4gv                1\n",
       "descobriam                           1\n",
       "disponível                           1\n",
       "https//tco/v86e1kbceolançamento      1\n",
       "Length: 1095, dtype: int64"
      ]
     },
     "metadata": {},
     "execution_count": 36
    }
   ],
   "metadata": {}
  },
  {
   "cell_type": "code",
   "execution_count": 37,
   "source": [
    "tabela_relevantes_relativa = serie_tweets_relevantes.value_counts(True)\n",
    "tabela_relevantes_relativa"
   ],
   "outputs": [
    {
     "output_type": "execute_result",
     "data": {
      "text/plain": [
       "iphone                             0.051496\n",
       "13                                 0.049954\n",
       "o                                  0.039470\n",
       "de                                 0.025594\n",
       "que                                0.022818\n",
       "                                     ...   \n",
       "“revolucionar”                     0.000308\n",
       "https//tco/ui6ywtr4gv              0.000308\n",
       "descobriam                         0.000308\n",
       "disponível                         0.000308\n",
       "https//tco/v86e1kbceolançamento    0.000308\n",
       "Length: 1095, dtype: float64"
      ]
     },
     "metadata": {},
     "execution_count": 37
    }
   ],
   "metadata": {}
  },
  {
   "cell_type": "code",
   "execution_count": 38,
   "source": [
    "tabela_irrelevantes = serie_tweets_irrelevantes.value_counts()\n",
    "tabela_irrelevantes"
   ],
   "outputs": [
    {
     "output_type": "execute_result",
     "data": {
      "text/plain": [
       "o                         106\n",
       "iphone                    104\n",
       "13                         85\n",
       "do                         54\n",
       "e                          41\n",
       "                         ... \n",
       "oq                          1\n",
       "https//tco/9fkh8dqtmja      1\n",
       "zoada                       1\n",
       "umas                        1\n",
       "rico                        1\n",
       "Length: 667, dtype: int64"
      ]
     },
     "metadata": {},
     "execution_count": 38
    }
   ],
   "metadata": {}
  },
  {
   "cell_type": "code",
   "execution_count": 39,
   "source": [
    "tabela_irrelevantes_relativa = serie_tweets_irrelevantes.value_counts(True)\n",
    "tabela_irrelevantes_relativa"
   ],
   "outputs": [
    {
     "output_type": "execute_result",
     "data": {
      "text/plain": [
       "o                         0.055381\n",
       "iphone                    0.054336\n",
       "13                        0.044410\n",
       "do                        0.028213\n",
       "e                         0.021421\n",
       "                            ...   \n",
       "oq                        0.000522\n",
       "https//tco/9fkh8dqtmja    0.000522\n",
       "zoada                     0.000522\n",
       "umas                      0.000522\n",
       "rico                      0.000522\n",
       "Length: 667, dtype: float64"
      ]
     },
     "metadata": {},
     "execution_count": 39
    }
   ],
   "metadata": {}
  },
  {
   "cell_type": "code",
   "execution_count": 40,
   "source": [
    "tweets = Tweets_relevantes_Text + Tweets_nao_relevantes_Text\n",
    "\n",
    "todos_tweets = tweets.split()\n",
    "\n",
    "serie_todos_tweets = pd.Series(todos_tweets)\n"
   ],
   "outputs": [],
   "metadata": {}
  },
  {
   "cell_type": "code",
   "execution_count": 41,
   "source": [
    "tabela_tweets = serie_todos_tweets.value_counts()\n",
    "tabela_tweets"
   ],
   "outputs": [
    {
     "output_type": "execute_result",
     "data": {
      "text/plain": [
       "iphone                         271\n",
       "13                             247\n",
       "o                              234\n",
       "de                             117\n",
       "e                              107\n",
       "                              ... \n",
       "apesar                           1\n",
       "ponte                            1\n",
       "comentados                       1\n",
       "https//tco/9einvlxbdbboatos      1\n",
       "bozomeu                          1\n",
       "Length: 1536, dtype: int64"
      ]
     },
     "metadata": {},
     "execution_count": 41
    }
   ],
   "metadata": {}
  },
  {
   "cell_type": "code",
   "execution_count": 42,
   "source": [
    "tabela_tweets_relativa = serie_todos_tweets.value_counts(True)\n",
    "tabela_tweets_relativa"
   ],
   "outputs": [
    {
     "output_type": "execute_result",
     "data": {
      "text/plain": [
       "iphone                         0.052560\n",
       "13                             0.047905\n",
       "o                              0.045384\n",
       "de                             0.022692\n",
       "e                              0.020753\n",
       "                                 ...   \n",
       "apesar                         0.000194\n",
       "ponte                          0.000194\n",
       "comentados                     0.000194\n",
       "https//tco/9einvlxbdbboatos    0.000194\n",
       "bozomeu                        0.000194\n",
       "Length: 1536, dtype: float64"
      ]
     },
     "metadata": {},
     "execution_count": 42
    }
   ],
   "metadata": {}
  },
  {
   "cell_type": "code",
   "execution_count": 43,
   "source": [
    "tabela_tweets"
   ],
   "outputs": [
    {
     "output_type": "execute_result",
     "data": {
      "text/plain": [
       "iphone                         271\n",
       "13                             247\n",
       "o                              234\n",
       "de                             117\n",
       "e                              107\n",
       "                              ... \n",
       "apesar                           1\n",
       "ponte                            1\n",
       "comentados                       1\n",
       "https//tco/9einvlxbdbboatos      1\n",
       "bozomeu                          1\n",
       "Length: 1536, dtype: int64"
      ]
     },
     "metadata": {},
     "execution_count": 43
    }
   ],
   "metadata": {}
  },
  {
   "cell_type": "code",
   "execution_count": 48,
   "source": [
    "def suavizacao_laplace(palavra, classificao):\n",
    "    # Classificação para irrelevante\n",
    "    if classificao == 0:\n",
    "      if palavra in tabela_irrelevantes:\n",
    "        return (tabela_irrelevantes[palavra] + 1) / (tabela_irrelevantes.sum() + len(tabela_tweets))\n",
    "      else:\n",
    "        return 1 / (tabela_irrelevantes.sum() + len(tabela_tweets))\n",
    "      \n",
    "    # Classificação para relevante\n",
    "    if classificao == 1:\n",
    "      if palavra in tabela_relevantes:\n",
    "        return (tabela_relevantes[palavra] + 1) / (tabela_relevantes.sum() + len(tabela_tweets))\n",
    "      else:\n",
    "        return 1 / (tabela_relevantes.sum() + len(tabela_tweets))\n",
    "      "
   ],
   "outputs": [],
   "metadata": {}
  },
  {
   "cell_type": "code",
   "execution_count": 45,
   "source": [
    "def calcula_probabilidade(tweet):\n",
    "  probRelevante_laplace = []\n",
    "  probIrrelevante_laplace = []\n",
    "  probRelevante = 1\n",
    "  probIrrelevante = 1\n",
    "\n",
    "  for i in tweet:\n",
    "    probIrrelevante_laplace.append(suavizacao_laplace(i, 0))\n",
    "    probRelevante_laplace.append(suavizacao_laplace(i, 1))\n",
    "\n",
    "  for i in probIrrelevante_laplace:\n",
    "    probIrrelevante *= i\n",
    "  \n",
    "  for i in probRelevante_laplace:\n",
    "    probRelevante *= i\n",
    "\n",
    "  if probRelevante > probIrrelevante:\n",
    "    return 1\n",
    "  else:\n",
    "    return 0\n",
    "\n",
    "  "
   ],
   "outputs": [],
   "metadata": {}
  },
  {
   "cell_type": "code",
   "execution_count": 46,
   "source": [
    "def classificador(tweets):\n",
    "  lista_tweets = []\n",
    "  lista_tweets_prob = []\n",
    "\n",
    "  for i in tweets['Teste']:\n",
    "    lista_tweets.append(i.lower())\n",
    "  \n",
    "  for i in lista_tweets:\n",
    "    tweets_splitados = i.strip().split()\n",
    "    lista_tweets_prob.append(calcula_probabilidade(tweets_splitados))\n",
    "\n",
    "  return lista_tweets_prob"
   ],
   "outputs": [],
   "metadata": {}
  },
  {
   "cell_type": "markdown",
   "source": [
    "___\n",
    "### Verificando a performance do Classificador\n",
    "\n",
    "Agora você deve testar o seu classificador com a base de Testes."
   ],
   "metadata": {}
  },
  {
   "cell_type": "code",
   "execution_count": 47,
   "source": [
    "resultado = classificador(test)\n",
    "\n",
    "test['Classificador Naive Bias'] = resultado\n",
    "test.head(30)"
   ],
   "outputs": [
    {
     "output_type": "execute_result",
     "data": {
      "text/html": [
       "<div>\n",
       "<style scoped>\n",
       "    .dataframe tbody tr th:only-of-type {\n",
       "        vertical-align: middle;\n",
       "    }\n",
       "\n",
       "    .dataframe tbody tr th {\n",
       "        vertical-align: top;\n",
       "    }\n",
       "\n",
       "    .dataframe thead th {\n",
       "        text-align: right;\n",
       "    }\n",
       "</style>\n",
       "<table border=\"1\" class=\"dataframe\">\n",
       "  <thead>\n",
       "    <tr style=\"text-align: right;\">\n",
       "      <th></th>\n",
       "      <th>Teste</th>\n",
       "      <th>Classificador</th>\n",
       "      <th>Classificador Naive Bias</th>\n",
       "    </tr>\n",
       "  </thead>\n",
       "  <tbody>\n",
       "    <tr>\n",
       "      <th>0</th>\n",
       "      <td>@felipeneto o iphone 13 sem entrada de carrega...</td>\n",
       "      <td>1</td>\n",
       "      <td>1</td>\n",
       "    </tr>\n",
       "    <tr>\n",
       "      <th>1</th>\n",
       "      <td>iphone 13 n vir com entrada pra carregador e o...</td>\n",
       "      <td>1</td>\n",
       "      <td>1</td>\n",
       "    </tr>\n",
       "    <tr>\n",
       "      <th>2</th>\n",
       "      <td>iphone 13 nem lançou e eu já tô querendo comprar</td>\n",
       "      <td>1</td>\n",
       "      <td>1</td>\n",
       "    </tr>\n",
       "    <tr>\n",
       "      <th>3</th>\n",
       "      <td>iphone 13 vir sem entrada pra carregador te ob...</td>\n",
       "      <td>1</td>\n",
       "      <td>1</td>\n",
       "    </tr>\n",
       "    <tr>\n",
       "      <th>4</th>\n",
       "      <td>@kayanes7 @lara_ray002 @anonymouscrec poise ma...</td>\n",
       "      <td>0</td>\n",
       "      <td>1</td>\n",
       "    </tr>\n",
       "    <tr>\n",
       "      <th>5</th>\n",
       "      <td>ai vocês que são ricos e vão trocar de iphone ...</td>\n",
       "      <td>0</td>\n",
       "      <td>1</td>\n",
       "    </tr>\n",
       "    <tr>\n",
       "      <th>6</th>\n",
       "      <td>@jotaenii7 cnf iphone 13 vai chegar</td>\n",
       "      <td>1</td>\n",
       "      <td>1</td>\n",
       "    </tr>\n",
       "    <tr>\n",
       "      <th>7</th>\n",
       "      <td>@joaquinteixeira programação dia07vaisergigant...</td>\n",
       "      <td>0</td>\n",
       "      <td>0</td>\n",
       "    </tr>\n",
       "    <tr>\n",
       "      <th>8</th>\n",
       "      <td>comunicação por satélite do iphone 13 será exc...</td>\n",
       "      <td>1</td>\n",
       "      <td>1</td>\n",
       "    </tr>\n",
       "    <tr>\n",
       "      <th>9</th>\n",
       "      <td>@ruivo367 @_lasg @mariliamoscou e várias outra...</td>\n",
       "      <td>0</td>\n",
       "      <td>1</td>\n",
       "    </tr>\n",
       "    <tr>\n",
       "      <th>10</th>\n",
       "      <td>quem ai vai comprar o iphone 13</td>\n",
       "      <td>1</td>\n",
       "      <td>0</td>\n",
       "    </tr>\n",
       "    <tr>\n",
       "      <th>11</th>\n",
       "      <td>@_cameraman_13 @viniccius13 vou comprar 13 iph...</td>\n",
       "      <td>1</td>\n",
       "      <td>0</td>\n",
       "    </tr>\n",
       "    <tr>\n",
       "      <th>12</th>\n",
       "      <td>eu agora esperando o anonymous vazar o cartão ...</td>\n",
       "      <td>0</td>\n",
       "      <td>0</td>\n",
       "    </tr>\n",
       "    <tr>\n",
       "      <th>13</th>\n",
       "      <td>@felipeneto felipe pq tu não compra o iphone 1...</td>\n",
       "      <td>1</td>\n",
       "      <td>1</td>\n",
       "    </tr>\n",
       "    <tr>\n",
       "      <th>14</th>\n",
       "      <td>só se for o iphone 13 né melhor me dar um carr...</td>\n",
       "      <td>1</td>\n",
       "      <td>1</td>\n",
       "    </tr>\n",
       "    <tr>\n",
       "      <th>15</th>\n",
       "      <td>gente e o iphone 13 que nao tem entrada pra ca...</td>\n",
       "      <td>1</td>\n",
       "      <td>1</td>\n",
       "    </tr>\n",
       "    <tr>\n",
       "      <th>16</th>\n",
       "      <td>@chicobarney chico será que meu iphone está qu...</td>\n",
       "      <td>0</td>\n",
       "      <td>1</td>\n",
       "    </tr>\n",
       "    <tr>\n",
       "      <th>17</th>\n",
       "      <td>@vlucasrocha quero q vaze o cartão do bolso pr...</td>\n",
       "      <td>0</td>\n",
       "      <td>0</td>\n",
       "    </tr>\n",
       "    <tr>\n",
       "      <th>18</th>\n",
       "      <td>a apple já podia lançar o iphone 13 despachems...</td>\n",
       "      <td>0</td>\n",
       "      <td>1</td>\n",
       "    </tr>\n",
       "    <tr>\n",
       "      <th>19</th>\n",
       "      <td>o iphone 13 vai lançar mas ex a questao  o 12 ...</td>\n",
       "      <td>1</td>\n",
       "      <td>1</td>\n",
       "    </tr>\n",
       "    <tr>\n",
       "      <th>20</th>\n",
       "      <td>apple marca lançamento do iphone 13 em 14 de s...</td>\n",
       "      <td>1</td>\n",
       "      <td>1</td>\n",
       "    </tr>\n",
       "    <tr>\n",
       "      <th>21</th>\n",
       "      <td>comunicação por satélite do iphone 13 será exc...</td>\n",
       "      <td>1</td>\n",
       "      <td>1</td>\n",
       "    </tr>\n",
       "    <tr>\n",
       "      <th>22</th>\n",
       "      <td>new post capas de silicone apple aparecem em v...</td>\n",
       "      <td>1</td>\n",
       "      <td>1</td>\n",
       "    </tr>\n",
       "    <tr>\n",
       "      <th>23</th>\n",
       "      <td>é agora q os anonymous vaza a senha do cartão ...</td>\n",
       "      <td>0</td>\n",
       "      <td>0</td>\n",
       "    </tr>\n",
       "    <tr>\n",
       "      <th>24</th>\n",
       "      <td>mamae cade meu iphone 13 https//tco/xu8xbaxtid</td>\n",
       "      <td>1</td>\n",
       "      <td>0</td>\n",
       "    </tr>\n",
       "    <tr>\n",
       "      <th>25</th>\n",
       "      <td>spotify premium é melhor que um iphone 13 max sim</td>\n",
       "      <td>0</td>\n",
       "      <td>1</td>\n",
       "    </tr>\n",
       "    <tr>\n",
       "      <th>26</th>\n",
       "      <td>iphone 13 comunicação por satélite será uma re...</td>\n",
       "      <td>1</td>\n",
       "      <td>1</td>\n",
       "    </tr>\n",
       "    <tr>\n",
       "      <th>27</th>\n",
       "      <td>eu te amo tanto mais tanto que se um dia me of...</td>\n",
       "      <td>0</td>\n",
       "      <td>0</td>\n",
       "    </tr>\n",
       "    <tr>\n",
       "      <th>28</th>\n",
       "      <td>vou ficar acordado essa madruga vai que o anon...</td>\n",
       "      <td>0</td>\n",
       "      <td>0</td>\n",
       "    </tr>\n",
       "    <tr>\n",
       "      <th>29</th>\n",
       "      <td>acabei de lembrar q com 13 anos eu passei o me...</td>\n",
       "      <td>0</td>\n",
       "      <td>0</td>\n",
       "    </tr>\n",
       "  </tbody>\n",
       "</table>\n",
       "</div>"
      ],
      "text/plain": [
       "                                                Teste  Classificador  \\\n",
       "0   @felipeneto o iphone 13 sem entrada de carrega...              1   \n",
       "1   iphone 13 n vir com entrada pra carregador e o...              1   \n",
       "2    iphone 13 nem lançou e eu já tô querendo comprar              1   \n",
       "3   iphone 13 vir sem entrada pra carregador te ob...              1   \n",
       "4   @kayanes7 @lara_ray002 @anonymouscrec poise ma...              0   \n",
       "5   ai vocês que são ricos e vão trocar de iphone ...              0   \n",
       "6                 @jotaenii7 cnf iphone 13 vai chegar              1   \n",
       "7   @joaquinteixeira programação dia07vaisergigant...              0   \n",
       "8   comunicação por satélite do iphone 13 será exc...              1   \n",
       "9   @ruivo367 @_lasg @mariliamoscou e várias outra...              0   \n",
       "10                    quem ai vai comprar o iphone 13              1   \n",
       "11  @_cameraman_13 @viniccius13 vou comprar 13 iph...              1   \n",
       "12  eu agora esperando o anonymous vazar o cartão ...              0   \n",
       "13  @felipeneto felipe pq tu não compra o iphone 1...              1   \n",
       "14  só se for o iphone 13 né melhor me dar um carr...              1   \n",
       "15  gente e o iphone 13 que nao tem entrada pra ca...              1   \n",
       "16  @chicobarney chico será que meu iphone está qu...              0   \n",
       "17  @vlucasrocha quero q vaze o cartão do bolso pr...              0   \n",
       "18  a apple já podia lançar o iphone 13 despachems...              0   \n",
       "19  o iphone 13 vai lançar mas ex a questao  o 12 ...              1   \n",
       "20  apple marca lançamento do iphone 13 em 14 de s...              1   \n",
       "21  comunicação por satélite do iphone 13 será exc...              1   \n",
       "22  new post capas de silicone apple aparecem em v...              1   \n",
       "23  é agora q os anonymous vaza a senha do cartão ...              0   \n",
       "24     mamae cade meu iphone 13 https//tco/xu8xbaxtid              1   \n",
       "25  spotify premium é melhor que um iphone 13 max sim              0   \n",
       "26  iphone 13 comunicação por satélite será uma re...              1   \n",
       "27  eu te amo tanto mais tanto que se um dia me of...              0   \n",
       "28  vou ficar acordado essa madruga vai que o anon...              0   \n",
       "29  acabei de lembrar q com 13 anos eu passei o me...              0   \n",
       "\n",
       "    Classificador Naive Bias  \n",
       "0                          1  \n",
       "1                          1  \n",
       "2                          1  \n",
       "3                          1  \n",
       "4                          1  \n",
       "5                          1  \n",
       "6                          1  \n",
       "7                          0  \n",
       "8                          1  \n",
       "9                          1  \n",
       "10                         0  \n",
       "11                         0  \n",
       "12                         0  \n",
       "13                         1  \n",
       "14                         1  \n",
       "15                         1  \n",
       "16                         1  \n",
       "17                         0  \n",
       "18                         1  \n",
       "19                         1  \n",
       "20                         1  \n",
       "21                         1  \n",
       "22                         1  \n",
       "23                         0  \n",
       "24                         0  \n",
       "25                         1  \n",
       "26                         1  \n",
       "27                         0  \n",
       "28                         0  \n",
       "29                         0  "
      ]
     },
     "metadata": {},
     "execution_count": 47
    }
   ],
   "metadata": {}
  },
  {
   "cell_type": "code",
   "execution_count": null,
   "source": [],
   "outputs": [],
   "metadata": {}
  },
  {
   "cell_type": "code",
   "execution_count": null,
   "source": [],
   "outputs": [],
   "metadata": {}
  },
  {
   "cell_type": "markdown",
   "source": [
    "___\n",
    "### Concluindo"
   ],
   "metadata": {}
  },
  {
   "cell_type": "code",
   "execution_count": null,
   "source": [],
   "outputs": [],
   "metadata": {}
  },
  {
   "cell_type": "code",
   "execution_count": null,
   "source": [],
   "outputs": [],
   "metadata": {}
  },
  {
   "cell_type": "code",
   "execution_count": null,
   "source": [],
   "outputs": [],
   "metadata": {}
  },
  {
   "cell_type": "markdown",
   "source": [
    "___\n",
    "### Qualidade do Classificador a partir de novas separações dos tweets entre Treinamento e Teste\n",
    "\n",
    "Caso for fazer esse item do Projeto"
   ],
   "metadata": {}
  },
  {
   "cell_type": "code",
   "execution_count": null,
   "source": [],
   "outputs": [],
   "metadata": {}
  },
  {
   "cell_type": "code",
   "execution_count": null,
   "source": [],
   "outputs": [],
   "metadata": {}
  },
  {
   "cell_type": "code",
   "execution_count": null,
   "source": [],
   "outputs": [],
   "metadata": {}
  },
  {
   "cell_type": "markdown",
   "source": [
    "___\n",
    "## Aperfeiçoamento:\n",
    "\n",
    "Trabalhos que conseguirem pelo menos conceito B vão evoluir em conceito dependendo da quantidade de itens avançados:\n",
    "\n",
    "* IMPLEMENTOU outras limpezas e transformações que não afetem a qualidade da informação contida nos tweets. Ex: stemming, lemmatization, stopwords\n",
    "* CORRIGIU separação de espaços entre palavras e emojis ou entre emojis e emojis\n",
    "* CRIOU categorias intermediárias de relevância baseadas na probabilidade: ex.: muito relevante, relevante, neutro, irrelevante, muito irrelevante. Pelo menos quatro categorias, com adição de mais tweets na base, conforme enunciado. (OBRIGATÓRIO PARA TRIOS, sem contar como item avançado)\n",
    "* EXPLICOU porquê não pode usar o próprio classificador para gerar mais amostras de treinamento\n",
    "* PROPÔS diferentes cenários para Naïve Bayes fora do contexto do projeto\n",
    "* SUGERIU e EXPLICOU melhorias reais com indicações concretas de como implementar (indicar como fazer e indicar material de pesquisa)\n",
    "* FEZ o item 6. Qualidade do Classificador a partir de novas separações dos tweets entre Treinamento e Teste descrito no enunciado do projeto (OBRIGATÓRIO para conceitos A ou A+)"
   ],
   "metadata": {},
   "attachments": {}
  },
  {
   "cell_type": "markdown",
   "source": [
    "___\n",
    "## Referências"
   ],
   "metadata": {}
  },
  {
   "cell_type": "markdown",
   "source": [
    "[Naive Bayes and Text Classification](https://arxiv.org/pdf/1410.5329.pdf)  **Mais completo**\n",
    "\n",
    "[A practical explanation of a Naive Bayes Classifier](https://monkeylearn.com/blog/practical-explanation-naive-bayes-classifier/) **Mais simples**"
   ],
   "metadata": {}
  },
  {
   "cell_type": "code",
   "execution_count": null,
   "source": [],
   "outputs": [],
   "metadata": {}
  }
 ],
 "metadata": {
  "kernelspec": {
   "name": "python3",
   "display_name": "Python 3.8.10 64-bit"
  },
  "language_info": {
   "codemirror_mode": {
    "name": "ipython",
    "version": 3
   },
   "file_extension": ".py",
   "mimetype": "text/x-python",
   "name": "python",
   "nbconvert_exporter": "python",
   "pygments_lexer": "ipython3",
   "version": "3.8.10"
  },
  "interpreter": {
   "hash": "916dbcbb3f70747c44a77c7bcd40155683ae19c65e1c03b4aa3499c5328201f1"
  }
 },
 "nbformat": 4,
 "nbformat_minor": 4
}