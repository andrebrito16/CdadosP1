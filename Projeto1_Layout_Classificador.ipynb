{
 "cells": [
  {
   "cell_type": "markdown",
   "source": [
    "# Projeto 1 - Ciência dos Dados"
   ],
   "metadata": {}
  },
  {
   "cell_type": "markdown",
   "source": [
    "Nome: André Brito\n",
    "\n",
    "Nome: Gabriela Albuquerque"
   ],
   "metadata": {}
  },
  {
   "cell_type": "markdown",
   "source": [
    "# Contextualização\r\n",
    "____\r\n",
    "\r\n",
    "- O produto escolhido para a classificação foi o tão falado lançamento do iphone 13   que está vinculado com a marca Apple.\r\n",
    "- A classificação foi realizada com intuito de analisar caso internautas ou possíveis consumidores do novo celular comentariam algo sobre na rede social Twitter. O modo de classificação utilizada foi relevânte caso o usuário fizesse algum comentário positivo ou não, como elogiando alguma parte do celular,querendo um ou criticando algum aspecto como a não vinda de um carregador no celular. Tweets que falavam apenas de assuntos politicos ou sem sentido,foram consideradas como irrelevantes nessa classificação.\r\n",
    "\r\n",
    "\r\n",
    "\r\n",
    "\r\n",
    "\r\n"
   ],
   "metadata": {}
  },
  {
   "cell_type": "markdown",
   "source": [
    "___\n",
    "# Bibliotecas Utilizadas:"
   ],
   "metadata": {}
  },
  {
   "cell_type": "code",
   "execution_count": 1,
   "source": [
    "%matplotlib inline\r\n",
    "import pandas as pd\r\n",
    "import matplotlib.pyplot as plt\r\n",
    "from numpy import arange, min, max\r\n",
    "import os\r\n",
    "import re\r\n",
    "from sklearn.model_selection import train_test_split\r\n",
    "from nltk.stem import PorterStemmer"
   ],
   "outputs": [],
   "metadata": {}
  },
  {
   "cell_type": "markdown",
   "source": [
    "Corfimando o diretório do trabalho "
   ],
   "metadata": {}
  },
  {
   "cell_type": "code",
   "execution_count": 2,
   "source": [
    "print('Esperamos trabalhar no diretório')\r\n",
    "print(os.getcwd())"
   ],
   "outputs": [
    {
     "output_type": "stream",
     "name": "stdout",
     "text": [
      "Esperamos trabalhar no diretório\n",
      "c:\\Users\\m_gab\\OneDrive\\Área de Trabalho\\Insper\\2 semestre\\Cdados\\Projeto\\CdadosP1\n"
     ]
    }
   ],
   "metadata": {
    "scrolled": false
   }
  },
  {
   "cell_type": "markdown",
   "source": [
    "# Banco de Dados \n",
    "___"
   ],
   "metadata": {}
  },
  {
   "cell_type": "markdown",
   "source": [
    "Iremos nesse passo de definição das funções de limpeza seguir os seguintes passos:\r\n",
    "\r\n",
    "- Limpar itens comuns e pontuações, como '!';\r\n",
    "- Tornar, caso tenha-se, palavras com letras maiúsculas em letras minúsculas para evitar diferenciações entre palavras iguais;\r\n",
    "- Função de aplicação, que junta os fragmentos de palavras separados com os emojis\r\n",
    "___\r\n"
   ],
   "metadata": {}
  },
  {
   "cell_type": "code",
   "execution_count": 3,
   "source": [
    "def cleanup(text):\r\n",
    "    punctuation = '[!-.:?;]' # Note que os sinais [] são delimitadores de um conjunto.\r\n",
    "    pattern = re.compile(punctuation)\r\n",
    "    text_subbed = re.sub(pattern, ' ', text)\r\n",
    "    return text_subbed.strip()"
   ],
   "outputs": [],
   "metadata": {}
  },
  {
   "cell_type": "markdown",
   "source": [
    "Carregando a base de dados com os tweets classificados como relevantes e não relevantes:"
   ],
   "metadata": {}
  },
  {
   "cell_type": "code",
   "execution_count": 4,
   "source": [
    "filename = 'iPhone 13.xlsx'"
   ],
   "outputs": [],
   "metadata": {}
  },
  {
   "cell_type": "code",
   "execution_count": 5,
   "source": [
    "train = pd.read_excel(filename)\r\n",
    "train.Treinamento = train['Treinamento'].apply(cleanup)\r\n",
    "train.head(5)"
   ],
   "outputs": [
    {
     "output_type": "execute_result",
     "data": {
      "text/html": [
       "<div>\n",
       "<style scoped>\n",
       "    .dataframe tbody tr th:only-of-type {\n",
       "        vertical-align: middle;\n",
       "    }\n",
       "\n",
       "    .dataframe tbody tr th {\n",
       "        vertical-align: top;\n",
       "    }\n",
       "\n",
       "    .dataframe thead th {\n",
       "        text-align: right;\n",
       "    }\n",
       "</style>\n",
       "<table border=\"1\" class=\"dataframe\">\n",
       "  <thead>\n",
       "    <tr style=\"text-align: right;\">\n",
       "      <th></th>\n",
       "      <th>Treinamento</th>\n",
       "      <th>Classificador</th>\n",
       "    </tr>\n",
       "  </thead>\n",
       "  <tbody>\n",
       "    <tr>\n",
       "      <th>0</th>\n",
       "      <td>alguém me da um iphone 13  to precisando 🥲</td>\n",
       "      <td>1</td>\n",
       "    </tr>\n",
       "    <tr>\n",
       "      <th>1</th>\n",
       "      <td>@vicmoura14 nem eu afinal aquele iphone 13 n v...</td>\n",
       "      <td>0</td>\n",
       "    </tr>\n",
       "    <tr>\n",
       "      <th>2</th>\n",
       "      <td>os outros 4 mentiram 😂 https //t co/vleieec9vm</td>\n",
       "      <td>0</td>\n",
       "    </tr>\n",
       "    <tr>\n",
       "      <th>3</th>\n",
       "      <td>@dosievil um macbook air 13  2 iphone 11 pro m...</td>\n",
       "      <td>0</td>\n",
       "    </tr>\n",
       "    <tr>\n",
       "      <th>4</th>\n",
       "      <td>já tá curioso pelo iphone 13  https //t co/wk8...</td>\n",
       "      <td>1</td>\n",
       "    </tr>\n",
       "  </tbody>\n",
       "</table>\n",
       "</div>"
      ],
      "text/plain": [
       "                                         Treinamento  Classificador\n",
       "0         alguém me da um iphone 13  to precisando 🥲              1\n",
       "1  @vicmoura14 nem eu afinal aquele iphone 13 n v...              0\n",
       "2     os outros 4 mentiram 😂 https //t co/vleieec9vm              0\n",
       "3  @dosievil um macbook air 13  2 iphone 11 pro m...              0\n",
       "4  já tá curioso pelo iphone 13  https //t co/wk8...              1"
      ]
     },
     "metadata": {},
     "execution_count": 5
    }
   ],
   "metadata": {}
  },
  {
   "cell_type": "code",
   "execution_count": 6,
   "source": [
    "test = pd.read_excel(filename, sheet_name = 'Teste')\r\n",
    "test.Teste = test['Teste'].apply(cleanup)\r\n",
    "test.head(5)"
   ],
   "outputs": [
    {
     "output_type": "execute_result",
     "data": {
      "text/html": [
       "<div>\n",
       "<style scoped>\n",
       "    .dataframe tbody tr th:only-of-type {\n",
       "        vertical-align: middle;\n",
       "    }\n",
       "\n",
       "    .dataframe tbody tr th {\n",
       "        vertical-align: top;\n",
       "    }\n",
       "\n",
       "    .dataframe thead th {\n",
       "        text-align: right;\n",
       "    }\n",
       "</style>\n",
       "<table border=\"1\" class=\"dataframe\">\n",
       "  <thead>\n",
       "    <tr style=\"text-align: right;\">\n",
       "      <th></th>\n",
       "      <th>Teste</th>\n",
       "      <th>Classificador</th>\n",
       "    </tr>\n",
       "  </thead>\n",
       "  <tbody>\n",
       "    <tr>\n",
       "      <th>0</th>\n",
       "      <td>@felipeneto o iphone 13 sem entrada de carrega...</td>\n",
       "      <td>1</td>\n",
       "    </tr>\n",
       "    <tr>\n",
       "      <th>1</th>\n",
       "      <td>iphone 13 n vir com entrada pra carregador e o...</td>\n",
       "      <td>1</td>\n",
       "    </tr>\n",
       "    <tr>\n",
       "      <th>2</th>\n",
       "      <td>iphone 13 nem lançou e eu já tô querendo comprar</td>\n",
       "      <td>1</td>\n",
       "    </tr>\n",
       "    <tr>\n",
       "      <th>3</th>\n",
       "      <td>iphone 13 vir sem entrada pra carregador te ob...</td>\n",
       "      <td>1</td>\n",
       "    </tr>\n",
       "    <tr>\n",
       "      <th>4</th>\n",
       "      <td>@kayanes7 @lara_ray002 @anonymouscrec poise  m...</td>\n",
       "      <td>0</td>\n",
       "    </tr>\n",
       "  </tbody>\n",
       "</table>\n",
       "</div>"
      ],
      "text/plain": [
       "                                               Teste  Classificador\n",
       "0  @felipeneto o iphone 13 sem entrada de carrega...              1\n",
       "1  iphone 13 n vir com entrada pra carregador e o...              1\n",
       "2   iphone 13 nem lançou e eu já tô querendo comprar              1\n",
       "3  iphone 13 vir sem entrada pra carregador te ob...              1\n",
       "4  @kayanes7 @lara_ray002 @anonymouscrec poise  m...              0"
      ]
     },
     "metadata": {},
     "execution_count": 6
    }
   ],
   "metadata": {}
  },
  {
   "cell_type": "markdown",
   "source": [
    "___\n",
    "# Classificador automático de sentimento\n"
   ],
   "metadata": {}
  },
  {
   "cell_type": "markdown",
   "source": [
    "Faça aqui uma descrição do seu produto e o que considerou como relevante ou não relevante na classificação dos tweets.\r\n",
    "\r\n",
    "- O produto é o iPhone 13, que tem o lançamento previsto para o mês de setembro de 2021. Foram considerados relevantes tweets que falam algo sobre o aparelho mas sem nenhum tom de piada ou meme."
   ],
   "metadata": {}
  },
  {
   "cell_type": "markdown",
   "source": [
    "___\n",
    "# Montando um Classificador Naive-Bayes\n",
    "\n",
    "Considerando apenas as mensagens da planilha Treinamento, ensine  seu classificador."
   ],
   "metadata": {}
  },
  {
   "cell_type": "code",
   "execution_count": 7,
   "source": [
    "# Separar os Tweets em categorias\r\n",
    "iPhone13_relevante = train[train['Classificador'] == 1]\r\n",
    "iPhone13_nao_relevante = train[train['Classificador'] == 0]"
   ],
   "outputs": [],
   "metadata": {}
  },
  {
   "cell_type": "code",
   "execution_count": 8,
   "source": [
    "# Criação de uma função para transformar uma frase em palavras\r\n",
    "def convert_to_words(frase):\r\n",
    "    texto=''\r\n",
    "    \r\n",
    "    for palavra in frase:\r\n",
    "        texto+=str(palavra)                        \r\n",
    "    \r\n",
    "    lista_palavras=texto.split(',')                \r\n",
    "    return pd.Series(lista_palavras)               "
   ],
   "outputs": [],
   "metadata": {}
  },
  {
   "cell_type": "code",
   "execution_count": 9,
   "source": [
    "# Salvamento dos tweets como strings\r\n",
    "Tweets_relevantes_Text = \"\"\r\n",
    "for i in iPhone13_relevante['Treinamento']:\r\n",
    "  Tweets_relevantes_Text += str(i)\r\n",
    "\r\n",
    "\r\n",
    "Tweets_nao_relevantes_Text = \"\"\r\n",
    "for i in iPhone13_nao_relevante['Treinamento']:\r\n",
    "  Tweets_nao_relevantes_Text += str(i)\r\n",
    "\r\n",
    "todos_tweets_relevantes = Tweets_relevantes_Text.split()\r\n",
    "todos_tweets_irrelevantes = Tweets_nao_relevantes_Text.split()\r\n",
    "\r\n",
    "serie_tweets_relevantes = pd.Series(todos_tweets_relevantes)\r\n",
    "serie_tweets_irrelevantes = pd.Series(todos_tweets_irrelevantes)\r\n"
   ],
   "outputs": [],
   "metadata": {}
  },
  {
   "cell_type": "markdown",
   "source": [
    "# Naive Bayes\r\n",
    "___\r\n",
    "\r\n",
    "É uma técnica de classificação baseado no teorema de Bayes com uma suposição de independência entre os preditores. Em termos simples, um classificador Naive Bayes assume que a presença de uma característica particular em uma classe não está relacionada com a presença de qualquer outro recurso.\r\n",
    "\r\n",
    "$$ P(c|x) = \\frac {P (x|c) P(c)}{P(x)} $$\r\n",
    "\r\n",
    "Utilizamos esse método, pois nos fornece varios ponto positivos como:\r\n",
    "\r\n",
    "- É fácil e rápido para prever o conjunto de dados da classe de teste. Também tem um bom desempenho na previsão de classes múltiplas.\r\n",
    "\r\n",
    "- O desempenho é bom em caso de variáveis categóricas de entrada comparada com a variáveis numéricas. Para variáveis numéricas, assume-se a distribuição normal (curva de sino, que é uma suposição forte).\r\n",
    "___"
   ],
   "metadata": {}
  },
  {
   "cell_type": "markdown",
   "source": [
    "# Frequências absolutas e relativas \r\n",
    "___\r\n"
   ],
   "metadata": {}
  },
  {
   "cell_type": "markdown",
   "source": [
    "Palavras em um texto são variáveis qualitativas nominais, portanto usaremos value_counts() para obter a tabela de frequências relativas e absolutas:"
   ],
   "metadata": {}
  },
  {
   "cell_type": "code",
   "execution_count": 10,
   "source": [
    "#frequência absoluta de tweets relevantes \r\n",
    "tabela_relevantes = serie_tweets_relevantes.value_counts()\r\n",
    "tabela_relevantes"
   ],
   "outputs": [
    {
     "output_type": "execute_result",
     "data": {
      "text/plain": [
       "iphone      167\n",
       "13          164\n",
       "o           128\n",
       "de           83\n",
       "//t          81\n",
       "           ... \n",
       "te            1\n",
       "internet      1\n",
       "post          1\n",
       "façam         1\n",
       "horrorvc      1\n",
       "Length: 1103, dtype: int64"
      ]
     },
     "metadata": {},
     "execution_count": 10
    }
   ],
   "metadata": {}
  },
  {
   "cell_type": "code",
   "execution_count": 11,
   "source": [
    "#frequência relativa de tweets relevantes \r\n",
    "tabela_relevantes_relativa = serie_tweets_relevantes.value_counts(True)\r\n",
    "tabela_relevantes_relativa"
   ],
   "outputs": [
    {
     "output_type": "execute_result",
     "data": {
      "text/plain": [
       "iphone      0.048816\n",
       "13          0.047939\n",
       "o           0.037416\n",
       "de          0.024262\n",
       "//t         0.023677\n",
       "              ...   \n",
       "te          0.000292\n",
       "internet    0.000292\n",
       "post        0.000292\n",
       "façam       0.000292\n",
       "horrorvc    0.000292\n",
       "Length: 1103, dtype: float64"
      ]
     },
     "metadata": {},
     "execution_count": 11
    }
   ],
   "metadata": {}
  },
  {
   "cell_type": "code",
   "execution_count": 12,
   "source": [
    "#frequência absoluta de tweets irrelevantes \r\n",
    "tabela_irrelevantes = serie_tweets_irrelevantes.value_counts()\r\n",
    "tabela_irrelevantes"
   ],
   "outputs": [
    {
     "output_type": "execute_result",
     "data": {
      "text/plain": [
       "o            106\n",
       "iphone       104\n",
       "13            91\n",
       "do            54\n",
       "e             42\n",
       "            ... \n",
       "ostentar       1\n",
       "to             1\n",
       "esperança      1\n",
       "sonic          1\n",
       "97             1\n",
       "Length: 675, dtype: int64"
      ]
     },
     "metadata": {},
     "execution_count": 12
    }
   ],
   "metadata": {}
  },
  {
   "cell_type": "code",
   "execution_count": 13,
   "source": [
    "#frequência relativa de tweets irrelevantes \r\n",
    "tabela_irrelevantes_relativa = serie_tweets_irrelevantes.value_counts(True)\r\n",
    "tabela_irrelevantes_relativa"
   ],
   "outputs": [
    {
     "output_type": "execute_result",
     "data": {
      "text/plain": [
       "o            0.052605\n",
       "iphone       0.051613\n",
       "13           0.045161\n",
       "do           0.026799\n",
       "e            0.020844\n",
       "               ...   \n",
       "ostentar     0.000496\n",
       "to           0.000496\n",
       "esperança    0.000496\n",
       "sonic        0.000496\n",
       "97           0.000496\n",
       "Length: 675, dtype: float64"
      ]
     },
     "metadata": {},
     "execution_count": 13
    }
   ],
   "metadata": {}
  },
  {
   "cell_type": "code",
   "execution_count": 14,
   "source": [
    "#usando slip para insere um valor de string e produz uma lista de palavras contidas na string separando ou dividindo as palavras em todos os espaços em branco por padrão.\r\n",
    "\r\n",
    "tweets = Tweets_relevantes_Text + Tweets_nao_relevantes_Text\r\n",
    "\r\n",
    "todos_tweets = tweets.split()\r\n",
    "\r\n",
    "serie_todos_tweets = pd.Series(todos_tweets)\r\n"
   ],
   "outputs": [],
   "metadata": {}
  },
  {
   "cell_type": "code",
   "execution_count": 15,
   "source": [
    "#tabela absoluta de todos os tweets\r\n",
    "tabela_tweets = serie_todos_tweets.value_counts()\r\n",
    "tabela_tweets"
   ],
   "outputs": [
    {
     "output_type": "execute_result",
     "data": {
      "text/plain": [
       "iphone       271\n",
       "13           255\n",
       "o            234\n",
       "de           117\n",
       "https        115\n",
       "            ... \n",
       "céu            1\n",
       "colectivo      1\n",
       "internet       1\n",
       "prestes        1\n",
       "horrorvc       1\n",
       "Length: 1546, dtype: int64"
      ]
     },
     "metadata": {},
     "execution_count": 15
    }
   ],
   "metadata": {}
  },
  {
   "cell_type": "code",
   "execution_count": 16,
   "source": [
    "#tabela relativa de todos os tweets\r\n",
    "tabela_tweets_relativa = serie_todos_tweets.value_counts(True)\r\n",
    "tabela_tweets_relativa"
   ],
   "outputs": [
    {
     "output_type": "execute_result",
     "data": {
      "text/plain": [
       "iphone       0.049862\n",
       "13           0.046918\n",
       "o            0.043054\n",
       "de           0.021527\n",
       "https        0.021159\n",
       "               ...   \n",
       "céu          0.000184\n",
       "colectivo    0.000184\n",
       "internet     0.000184\n",
       "prestes      0.000184\n",
       "horrorvc     0.000184\n",
       "Length: 1546, dtype: float64"
      ]
     },
     "metadata": {},
     "execution_count": 16
    }
   ],
   "metadata": {}
  },
  {
   "cell_type": "code",
   "execution_count": 17,
   "source": [
    "tabela_tweets"
   ],
   "outputs": [
    {
     "output_type": "execute_result",
     "data": {
      "text/plain": [
       "iphone       271\n",
       "13           255\n",
       "o            234\n",
       "de           117\n",
       "https        115\n",
       "            ... \n",
       "céu            1\n",
       "colectivo      1\n",
       "internet       1\n",
       "prestes        1\n",
       "horrorvc       1\n",
       "Length: 1546, dtype: int64"
      ]
     },
     "metadata": {},
     "execution_count": 17
    }
   ],
   "metadata": {}
  },
  {
   "cell_type": "markdown",
   "source": [
    "# Suavização de Laplace \r\n",
    "___\r\n",
    "\r\n",
    "Suavização de Laplace, que consiste em basicamente \"incluir\" a nova palavra no âmbito das probabilidades relativas de uma determinada palavra ser classificada como Relevante ou Irrelevante.\r\n",
    "___\r\n",
    "\r\n",
    "- Quantidade de palavras dos tweets relevantes: Qrelevante\r\n",
    "- Quantidadede de palavras dos tweets irrelevantes: Qirrelevante\r\n",
    "- Quantidade de palavras totais: Qtotal\r\n",
    "- Total de possíveis de palavras no banco de dados: Qpalavra\r\n",
    "- Frequência absoluta da palavra na lista de palavras relevantes: FaRelevante\r\n",
    "- Frequência absoluta da palavra na lista de palavras irrelevantes: FaIrrelevante \r\n",
    "___\r\n",
    "\r\n",
    "$$ P(relevante) = \\frac {Qrelevante}{Qtotal} $$\r\n",
    "___\r\n",
    "$$ P(irrelevante) = \\frac {Qirrelevante}{Qtotal} $$\r\n",
    "\r\n",
    "### Fórmula Suavização\r\n",
    "___\r\n",
    "\r\n",
    "$$ P(Palavra|Relevante) = \\frac {0}{Qr} $$\r\n",
    "$$ P(Palavra|Relevante) = \\frac {0+1}{Qr.Qpalavra} $$\r\n",
    "___\r\n",
    "$$ P(Palavra|Relevante) = \\frac {FaRelevante+1}{Qrelevante + Qpalavra} $$\r\n",
    "$$ P(Palavra|Irrelevante) = \\frac {FaIrrelevante+1}{Qirrelevante + Qpalavra} $$\r\n",
    "___\r\n",
    "\r\n",
    "\r\n"
   ],
   "metadata": {}
  },
  {
   "cell_type": "code",
   "execution_count": 18,
   "source": [
    "def suavizacao_laplace(palavra, classificao):\r\n",
    "    # Classificação para irrelevante\r\n",
    "    if classificao == 0:\r\n",
    "      if palavra in tabela_irrelevantes:\r\n",
    "        return (tabela_irrelevantes[palavra] + 1) / (tabela_irrelevantes.sum() + len(tabela_tweets))\r\n",
    "      else:\r\n",
    "        return 1 / (tabela_irrelevantes.sum() + len(tabela_tweets))\r\n",
    "      \r\n",
    "    # Classificação para relevante\r\n",
    "    if classificao == 1:\r\n",
    "      if palavra in tabela_relevantes:\r\n",
    "        return (tabela_relevantes[palavra] + 1) / (tabela_relevantes.sum() + len(tabela_tweets))\r\n",
    "      else:\r\n",
    "        return 1 / (tabela_relevantes.sum() + len(tabela_tweets))\r\n",
    "      "
   ],
   "outputs": [],
   "metadata": {}
  },
  {
   "cell_type": "markdown",
   "source": [
    "# Classificador \r\n",
    "___\r\n"
   ],
   "metadata": {}
  },
  {
   "cell_type": "code",
   "execution_count": 19,
   "source": [
    "#função para calcular as probalibilidades \r\n",
    "def calcula_probabilidade(tweet):\r\n",
    "  probRelevante_laplace = []\r\n",
    "  probIrrelevante_laplace = []\r\n",
    "  probRelevante = 1\r\n",
    "  probIrrelevante = 1\r\n",
    "\r\n",
    "  for i in tweet:\r\n",
    "    probIrrelevante_laplace.append(suavizacao_laplace(i, 0))\r\n",
    "    probRelevante_laplace.append(suavizacao_laplace(i, 1))\r\n",
    "\r\n",
    "  for i in probIrrelevante_laplace:\r\n",
    "    probIrrelevante *= i\r\n",
    "  \r\n",
    "  for i in probRelevante_laplace:\r\n",
    "    probRelevante *= i\r\n",
    "\r\n",
    "  if probRelevante > probIrrelevante:\r\n",
    "    return 1\r\n",
    "  else:\r\n",
    "    return 0\r\n",
    "\r\n",
    "  "
   ],
   "outputs": [],
   "metadata": {}
  },
  {
   "cell_type": "code",
   "execution_count": 20,
   "source": [
    "def classificador(tweets):\r\n",
    "  lista_tweets = []\r\n",
    "  lista_tweets_prob = []\r\n",
    "  if(\"Teste\" in tweets.columns):\r\n",
    "    for i in tweets['Teste']:\r\n",
    "      lista_tweets.append(i.lower())\r\n",
    "    \r\n",
    "    for i in lista_tweets:\r\n",
    "      tweets_splitados = i.strip().split()\r\n",
    "      lista_tweets_prob.append(calcula_probabilidade(tweets_splitados))\r\n",
    "  else:\r\n",
    "    for i in tweets['Total']:\r\n",
    "      lista_tweets.append(i.lower())\r\n",
    "    \r\n",
    "    for i in lista_tweets:\r\n",
    "      tweets_splitados = i.strip().split()\r\n",
    "      lista_tweets_prob.append(calcula_probabilidade(tweets_splitados))\r\n",
    "\r\n",
    "  return lista_tweets_prob"
   ],
   "outputs": [],
   "metadata": {}
  },
  {
   "cell_type": "markdown",
   "source": [
    "___\r\n",
    "# Verificando a performance do Classificador\r\n",
    "\r\n",
    "Testando o classificador com a base de Testes."
   ],
   "metadata": {}
  },
  {
   "cell_type": "code",
   "execution_count": 21,
   "source": [
    "resultado = classificador(test)\r\n",
    "\r\n",
    "test['Classificador Naive Bayes'] = resultado\r\n",
    "test.head(10)"
   ],
   "outputs": [
    {
     "output_type": "execute_result",
     "data": {
      "text/html": [
       "<div>\n",
       "<style scoped>\n",
       "    .dataframe tbody tr th:only-of-type {\n",
       "        vertical-align: middle;\n",
       "    }\n",
       "\n",
       "    .dataframe tbody tr th {\n",
       "        vertical-align: top;\n",
       "    }\n",
       "\n",
       "    .dataframe thead th {\n",
       "        text-align: right;\n",
       "    }\n",
       "</style>\n",
       "<table border=\"1\" class=\"dataframe\">\n",
       "  <thead>\n",
       "    <tr style=\"text-align: right;\">\n",
       "      <th></th>\n",
       "      <th>Teste</th>\n",
       "      <th>Classificador</th>\n",
       "      <th>Classificador Naive Bayes</th>\n",
       "    </tr>\n",
       "  </thead>\n",
       "  <tbody>\n",
       "    <tr>\n",
       "      <th>0</th>\n",
       "      <td>@felipeneto o iphone 13 sem entrada de carrega...</td>\n",
       "      <td>1</td>\n",
       "      <td>1</td>\n",
       "    </tr>\n",
       "    <tr>\n",
       "      <th>1</th>\n",
       "      <td>iphone 13 n vir com entrada pra carregador e o...</td>\n",
       "      <td>1</td>\n",
       "      <td>1</td>\n",
       "    </tr>\n",
       "    <tr>\n",
       "      <th>2</th>\n",
       "      <td>iphone 13 nem lançou e eu já tô querendo comprar</td>\n",
       "      <td>1</td>\n",
       "      <td>1</td>\n",
       "    </tr>\n",
       "    <tr>\n",
       "      <th>3</th>\n",
       "      <td>iphone 13 vir sem entrada pra carregador te ob...</td>\n",
       "      <td>1</td>\n",
       "      <td>1</td>\n",
       "    </tr>\n",
       "    <tr>\n",
       "      <th>4</th>\n",
       "      <td>@kayanes7 @lara_ray002 @anonymouscrec poise  m...</td>\n",
       "      <td>0</td>\n",
       "      <td>1</td>\n",
       "    </tr>\n",
       "    <tr>\n",
       "      <th>5</th>\n",
       "      <td>ai vocês que são ricos e vão trocar de iphone ...</td>\n",
       "      <td>0</td>\n",
       "      <td>1</td>\n",
       "    </tr>\n",
       "    <tr>\n",
       "      <th>6</th>\n",
       "      <td>@jotaenii7 cnf iphone 13 vai chegar</td>\n",
       "      <td>1</td>\n",
       "      <td>1</td>\n",
       "    </tr>\n",
       "    <tr>\n",
       "      <th>7</th>\n",
       "      <td>@joaquinteixeira programação  dia07vaisergigan...</td>\n",
       "      <td>0</td>\n",
       "      <td>0</td>\n",
       "    </tr>\n",
       "    <tr>\n",
       "      <th>8</th>\n",
       "      <td>comunicação por satélite do iphone 13 será exc...</td>\n",
       "      <td>1</td>\n",
       "      <td>1</td>\n",
       "    </tr>\n",
       "    <tr>\n",
       "      <th>9</th>\n",
       "      <td>@ruivo367 @_lasg @mariliamoscou e várias outra...</td>\n",
       "      <td>0</td>\n",
       "      <td>1</td>\n",
       "    </tr>\n",
       "  </tbody>\n",
       "</table>\n",
       "</div>"
      ],
      "text/plain": [
       "                                               Teste  Classificador  \\\n",
       "0  @felipeneto o iphone 13 sem entrada de carrega...              1   \n",
       "1  iphone 13 n vir com entrada pra carregador e o...              1   \n",
       "2   iphone 13 nem lançou e eu já tô querendo comprar              1   \n",
       "3  iphone 13 vir sem entrada pra carregador te ob...              1   \n",
       "4  @kayanes7 @lara_ray002 @anonymouscrec poise  m...              0   \n",
       "5  ai vocês que são ricos e vão trocar de iphone ...              0   \n",
       "6                @jotaenii7 cnf iphone 13 vai chegar              1   \n",
       "7  @joaquinteixeira programação  dia07vaisergigan...              0   \n",
       "8  comunicação por satélite do iphone 13 será exc...              1   \n",
       "9  @ruivo367 @_lasg @mariliamoscou e várias outra...              0   \n",
       "\n",
       "   Classificador Naive Bayes  \n",
       "0                          1  \n",
       "1                          1  \n",
       "2                          1  \n",
       "3                          1  \n",
       "4                          1  \n",
       "5                          1  \n",
       "6                          1  \n",
       "7                          0  \n",
       "8                          1  \n",
       "9                          1  "
      ]
     },
     "metadata": {},
     "execution_count": 21
    }
   ],
   "metadata": {}
  },
  {
   "cell_type": "markdown",
   "source": [
    "# Cálculo da porcentagem de acertos e erros"
   ],
   "metadata": {}
  },
  {
   "cell_type": "code",
   "execution_count": 22,
   "source": [
    "# Salvando as classificações em listas para fazermos a comparação\r\n",
    "\r\n",
    "classificacao_naive_bayes = test['Classificador Naive Bayes'].values.tolist()\r\n",
    "\r\n",
    "classificacao_manual = test['Classificador'].values.tolist()"
   ],
   "outputs": [],
   "metadata": {}
  },
  {
   "cell_type": "code",
   "execution_count": 23,
   "source": [
    "# Comparação dos resultados\r\n",
    "\r\n",
    "acertos = 0\r\n",
    "erros = 0\r\n",
    "\r\n",
    "print(\"O tamanho das listas são iguais\" if len(classificacao_naive_bayes) == len(classificacao_manual) else \"O tamanho das listas são diferentes\")\r\n",
    "\r\n",
    "total = len(classificacao_naive_bayes)\r\n",
    "for indice, valor in enumerate(classificacao_manual):\r\n",
    "  if valor == classificacao_naive_bayes[indice]:\r\n",
    "    acertos += 1\r\n",
    "  else:\r\n",
    "    erros += 1\r\n",
    "\r\n",
    "print(f\"A porcentagem de acertos do classificador é de {(acertos/200)*100}%\")\r\n",
    "\r\n",
    "print(f\"A porcentagem de erros do classificador é de {(erros/200)*100}%\")"
   ],
   "outputs": [
    {
     "output_type": "stream",
     "name": "stdout",
     "text": [
      "O tamanho das listas são iguais\n",
      "A porcentagem de acertos do classificador é de 71.5%\n",
      "A porcentagem de erros do classificador é de 28.499999999999996%\n"
     ]
    }
   ],
   "metadata": {}
  },
  {
   "cell_type": "markdown",
   "source": [
    "# Análise dos resultados\n",
    "- O percentual de acertos apesar de não ser extremamente alto é significante. A comparação a seguir mostra isso:"
   ],
   "metadata": {}
  },
  {
   "cell_type": "code",
   "execution_count": 24,
   "source": [
    "test['Classificador'].value_counts(True)"
   ],
   "outputs": [
    {
     "output_type": "execute_result",
     "data": {
      "text/plain": [
       "1    0.525\n",
       "0    0.475\n",
       "Name: Classificador, dtype: float64"
      ]
     },
     "metadata": {},
     "execution_count": 24
    }
   ],
   "metadata": {}
  },
  {
   "cell_type": "code",
   "execution_count": 25,
   "source": [
    "test['Classificador Naive Bayes'].value_counts(True)"
   ],
   "outputs": [
    {
     "output_type": "execute_result",
     "data": {
      "text/plain": [
       "1    0.57\n",
       "0    0.43\n",
       "Name: Classificador Naive Bayes, dtype: float64"
      ]
     },
     "metadata": {},
     "execution_count": 25
    }
   ],
   "metadata": {}
  },
  {
   "cell_type": "markdown",
   "source": [
    "# Implementação do Steeming"
   ],
   "metadata": {}
  },
  {
   "cell_type": "code",
   "execution_count": 26,
   "source": [
    "stemmer = PorterStemmer()"
   ],
   "outputs": [],
   "metadata": {}
  },
  {
   "cell_type": "code",
   "execution_count": 27,
   "source": [
    "def calcula_probabilidade(tweet):\r\n",
    "  probRelevante_laplace = []\r\n",
    "  probIrrelevante_laplace = []\r\n",
    "  probRelevante = 1\r\n",
    "  probIrrelevante = 1\r\n",
    "\r\n",
    "  for i in tweet:\r\n",
    "    probIrrelevante_laplace.append(suavizacao_laplace(stemmer.stem(i), 0))\r\n",
    "    probRelevante_laplace.append(suavizacao_laplace(stemmer.stem(i), 1))\r\n",
    "\r\n",
    "  for i in probIrrelevante_laplace:\r\n",
    "    probIrrelevante *= i\r\n",
    "  \r\n",
    "  for i in probRelevante_laplace:\r\n",
    "    probRelevante *= i\r\n",
    "\r\n",
    "  if probRelevante > probIrrelevante:\r\n",
    "    return 1\r\n",
    "  else:\r\n",
    "    return 0"
   ],
   "outputs": [],
   "metadata": {}
  },
  {
   "cell_type": "code",
   "execution_count": 28,
   "source": [
    "# Aplicação do stemming para cada palavra\r\n",
    "Tweets_relevantes_Text = \"\"\r\n",
    "for i in iPhone13_relevante['Treinamento']:\r\n",
    "  Tweets_relevantes_Text += str(stemmer.stem(i))\r\n",
    "\r\n",
    "\r\n",
    "Tweets_nao_relevantes_Text = \"\"\r\n",
    "for i in iPhone13_nao_relevante['Treinamento']:\r\n",
    "  Tweets_nao_relevantes_Text += str(stemmer.stem(i))\r\n",
    "\r\n",
    "todos_tweets_relevantes = Tweets_relevantes_Text.split()\r\n",
    "todos_tweets_irrelevantes = Tweets_nao_relevantes_Text.split()\r\n",
    "\r\n",
    "serie_tweets_relevantes = pd.Series(todos_tweets_relevantes)\r\n",
    "serie_tweets_irrelevantes = pd.Series(todos_tweets_irrelevantes)"
   ],
   "outputs": [],
   "metadata": {}
  },
  {
   "cell_type": "code",
   "execution_count": 29,
   "source": [
    "# Salvando as palavras em séries e todos os tweets também, bem como as frequências relativas\r\n",
    "\r\n",
    "tabela_relevantes = serie_tweets_relevantes.value_counts()\r\n",
    "tabela_relevantes_relativa = serie_tweets_relevantes.value_counts(True)\r\n",
    "\r\n",
    "tabela_irrelevantes = serie_tweets_irrelevantes.value_counts()\r\n",
    "tabela_irrelevantes_relativa = serie_tweets_irrelevantes.value_counts(True)\r\n",
    "\r\n",
    "tweets = Tweets_relevantes_Text + Tweets_nao_relevantes_Text\r\n",
    "\r\n",
    "todos_tweets = tweets.split()\r\n",
    "\r\n",
    "serie_todos_tweets = pd.Series(todos_tweets)\r\n",
    "\r\n",
    "tabela_tweets = serie_todos_tweets.value_counts()\r\n",
    "tabela_tweets_relativa = serie_todos_tweets.value_counts(True)"
   ],
   "outputs": [],
   "metadata": {}
  },
  {
   "cell_type": "code",
   "execution_count": 30,
   "source": [
    "# Aplicando o classificador novamente\r\n",
    "resultado = classificador(test)\r\n",
    "\r\n",
    "test['Classificador Naive Bayes'] = resultado\r\n",
    "test.head(10)"
   ],
   "outputs": [
    {
     "output_type": "execute_result",
     "data": {
      "text/html": [
       "<div>\n",
       "<style scoped>\n",
       "    .dataframe tbody tr th:only-of-type {\n",
       "        vertical-align: middle;\n",
       "    }\n",
       "\n",
       "    .dataframe tbody tr th {\n",
       "        vertical-align: top;\n",
       "    }\n",
       "\n",
       "    .dataframe thead th {\n",
       "        text-align: right;\n",
       "    }\n",
       "</style>\n",
       "<table border=\"1\" class=\"dataframe\">\n",
       "  <thead>\n",
       "    <tr style=\"text-align: right;\">\n",
       "      <th></th>\n",
       "      <th>Teste</th>\n",
       "      <th>Classificador</th>\n",
       "      <th>Classificador Naive Bayes</th>\n",
       "    </tr>\n",
       "  </thead>\n",
       "  <tbody>\n",
       "    <tr>\n",
       "      <th>0</th>\n",
       "      <td>@felipeneto o iphone 13 sem entrada de carrega...</td>\n",
       "      <td>1</td>\n",
       "      <td>1</td>\n",
       "    </tr>\n",
       "    <tr>\n",
       "      <th>1</th>\n",
       "      <td>iphone 13 n vir com entrada pra carregador e o...</td>\n",
       "      <td>1</td>\n",
       "      <td>1</td>\n",
       "    </tr>\n",
       "    <tr>\n",
       "      <th>2</th>\n",
       "      <td>iphone 13 nem lançou e eu já tô querendo comprar</td>\n",
       "      <td>1</td>\n",
       "      <td>1</td>\n",
       "    </tr>\n",
       "    <tr>\n",
       "      <th>3</th>\n",
       "      <td>iphone 13 vir sem entrada pra carregador te ob...</td>\n",
       "      <td>1</td>\n",
       "      <td>1</td>\n",
       "    </tr>\n",
       "    <tr>\n",
       "      <th>4</th>\n",
       "      <td>@kayanes7 @lara_ray002 @anonymouscrec poise  m...</td>\n",
       "      <td>0</td>\n",
       "      <td>0</td>\n",
       "    </tr>\n",
       "    <tr>\n",
       "      <th>5</th>\n",
       "      <td>ai vocês que são ricos e vão trocar de iphone ...</td>\n",
       "      <td>0</td>\n",
       "      <td>0</td>\n",
       "    </tr>\n",
       "    <tr>\n",
       "      <th>6</th>\n",
       "      <td>@jotaenii7 cnf iphone 13 vai chegar</td>\n",
       "      <td>1</td>\n",
       "      <td>1</td>\n",
       "    </tr>\n",
       "    <tr>\n",
       "      <th>7</th>\n",
       "      <td>@joaquinteixeira programação  dia07vaisergigan...</td>\n",
       "      <td>0</td>\n",
       "      <td>0</td>\n",
       "    </tr>\n",
       "    <tr>\n",
       "      <th>8</th>\n",
       "      <td>comunicação por satélite do iphone 13 será exc...</td>\n",
       "      <td>1</td>\n",
       "      <td>1</td>\n",
       "    </tr>\n",
       "    <tr>\n",
       "      <th>9</th>\n",
       "      <td>@ruivo367 @_lasg @mariliamoscou e várias outra...</td>\n",
       "      <td>0</td>\n",
       "      <td>0</td>\n",
       "    </tr>\n",
       "  </tbody>\n",
       "</table>\n",
       "</div>"
      ],
      "text/plain": [
       "                                               Teste  Classificador  \\\n",
       "0  @felipeneto o iphone 13 sem entrada de carrega...              1   \n",
       "1  iphone 13 n vir com entrada pra carregador e o...              1   \n",
       "2   iphone 13 nem lançou e eu já tô querendo comprar              1   \n",
       "3  iphone 13 vir sem entrada pra carregador te ob...              1   \n",
       "4  @kayanes7 @lara_ray002 @anonymouscrec poise  m...              0   \n",
       "5  ai vocês que são ricos e vão trocar de iphone ...              0   \n",
       "6                @jotaenii7 cnf iphone 13 vai chegar              1   \n",
       "7  @joaquinteixeira programação  dia07vaisergigan...              0   \n",
       "8  comunicação por satélite do iphone 13 será exc...              1   \n",
       "9  @ruivo367 @_lasg @mariliamoscou e várias outra...              0   \n",
       "\n",
       "   Classificador Naive Bayes  \n",
       "0                          1  \n",
       "1                          1  \n",
       "2                          1  \n",
       "3                          1  \n",
       "4                          0  \n",
       "5                          0  \n",
       "6                          1  \n",
       "7                          0  \n",
       "8                          1  \n",
       "9                          0  "
      ]
     },
     "metadata": {},
     "execution_count": 30
    }
   ],
   "metadata": {}
  },
  {
   "cell_type": "markdown",
   "source": [
    "## Análise dos resultados após aplicat o stemmer"
   ],
   "metadata": {}
  },
  {
   "cell_type": "code",
   "execution_count": 31,
   "source": [
    "# Salvando as classificações em listas para fazermos a comparação\r\n",
    "\r\n",
    "classificacao_naive_bayes = test['Classificador Naive Bayes'].values.tolist()\r\n",
    "\r\n",
    "classificacao_manual = test['Classificador'].values.tolist()"
   ],
   "outputs": [],
   "metadata": {}
  },
  {
   "cell_type": "code",
   "execution_count": 32,
   "source": [
    "# Comparação dos resultados\r\n",
    "\r\n",
    "acertos = 0\r\n",
    "erros = 0\r\n",
    "falsosPositivo = 0\r\n",
    "falsosNegativo = 0 \r\n",
    "\r\n",
    "print(\"O tamanho das listas são iguais\" if len(classificacao_naive_bayes) == len(classificacao_manual) else \"O tamanho das listas são diferentes\")\r\n",
    "\r\n",
    "total = len(classificacao_naive_bayes)\r\n",
    "for indice, valor in enumerate(classificacao_manual):\r\n",
    "  if valor == classificacao_naive_bayes[indice]:\r\n",
    "    acertos += 1\r\n",
    "  else:\r\n",
    "    erros += 1\r\n",
    "\r\n",
    "  if valor == 1 and classificacao_naive_bayes[indice] == 0:\r\n",
    "    falsosPositivo += 1\r\n",
    "  \r\n",
    "  if valor == 0 and classificacao_naive_bayes[indice] == 1:\r\n",
    "    falsosNegativo += 1\r\n",
    "\r\n",
    "print(f\"A porcentagem de acertos do classificador é de {(acertos/200)*100}%\")\r\n",
    "\r\n",
    "print(f\"A porcentagem de erros do classificador é de {(erros/200)*100}%\")\r\n",
    "\r\n",
    "print(f\"A porcentagem de falsos positivos  é de {(falsosPositivo/200)*100}%\")\r\n",
    "print(f\"A possibilidade de falsos negativos é de {(falsosNegativo/200)*100}%\")\r\n"
   ],
   "outputs": [
    {
     "output_type": "stream",
     "name": "stdout",
     "text": [
      "O tamanho das listas são iguais\n",
      "A porcentagem de acertos do classificador é de 71.0%\n",
      "A porcentagem de erros do classificador é de 28.999999999999996%\n",
      "A porcentagem de falsos positivos  é de 18.0%\n",
      "A possibilidade de falsos negativos é de 11.0%\n"
     ]
    }
   ],
   "metadata": {}
  },
  {
   "cell_type": "code",
   "execution_count": 33,
   "source": [
    "test['Classificador'].value_counts(True)"
   ],
   "outputs": [
    {
     "output_type": "execute_result",
     "data": {
      "text/plain": [
       "1    0.525\n",
       "0    0.475\n",
       "Name: Classificador, dtype: float64"
      ]
     },
     "metadata": {},
     "execution_count": 33
    }
   ],
   "metadata": {}
  },
  {
   "cell_type": "code",
   "execution_count": 34,
   "source": [
    "test['Classificador Naive Bayes'].value_counts(True)"
   ],
   "outputs": [
    {
     "output_type": "execute_result",
     "data": {
      "text/plain": [
       "0    0.545\n",
       "1    0.455\n",
       "Name: Classificador Naive Bayes, dtype: float64"
      ]
     },
     "metadata": {},
     "execution_count": 34
    }
   ],
   "metadata": {}
  },
  {
   "cell_type": "markdown",
   "source": [
    "# Resultado após o processo de stemming\n",
    "- Após o processo de stemming pode-se verificar que ocorreu uma redução na acuracidade do classificador. Uma possível explicação para o ocorrido é que os tweets dependem da conjugação ou flexão verbal. Isso siginifica que o modo como o verbo é conjugado ou flexionado no tweet influencia consideravelmente na classificação, logo o processo de stemming reduz a acuracidade por esse motivo."
   ],
   "metadata": {}
  },
  {
   "cell_type": "markdown",
   "source": [
    "___\r\n",
    "### Qualidade do Classificador a partir de novas separações dos tweets entre Treinamento e Teste\r\n"
   ],
   "metadata": {}
  },
  {
   "cell_type": "code",
   "execution_count": 35,
   "source": [
    "# \"Merge\" das bases de treinamento e teste em um único dataframe\r\n",
    "\r\n",
    "test_split = pd.read_excel(filename, sheet_name = 'Teste').rename(columns = {'Teste': 'Total'})\r\n",
    "\r\n",
    "train_split = pd.read_excel(filename, sheet_name = 'Treinamento').rename(columns = {'Treinamento': 'Total'})\r\n",
    "\r\n",
    "train_and_test_merge = pd.concat([train_split, test_split])\r\n",
    "\r\n",
    "# Limpeza dos tweets\r\n",
    "train_and_test_merge['Total'] = train_and_test_merge.Total.apply(cleanup)\r\n",
    "\r\n",
    "\r\n",
    "# Verificando se todos os tweets estão no dataframe\r\n",
    "assert test.shape[0] + train.shape[0] == train_and_test_merge.shape[0]\r\n",
    "train_and_test_merge.head(10)"
   ],
   "outputs": [
    {
     "output_type": "execute_result",
     "data": {
      "text/html": [
       "<div>\n",
       "<style scoped>\n",
       "    .dataframe tbody tr th:only-of-type {\n",
       "        vertical-align: middle;\n",
       "    }\n",
       "\n",
       "    .dataframe tbody tr th {\n",
       "        vertical-align: top;\n",
       "    }\n",
       "\n",
       "    .dataframe thead th {\n",
       "        text-align: right;\n",
       "    }\n",
       "</style>\n",
       "<table border=\"1\" class=\"dataframe\">\n",
       "  <thead>\n",
       "    <tr style=\"text-align: right;\">\n",
       "      <th></th>\n",
       "      <th>Total</th>\n",
       "      <th>Classificador</th>\n",
       "    </tr>\n",
       "  </thead>\n",
       "  <tbody>\n",
       "    <tr>\n",
       "      <th>0</th>\n",
       "      <td>alguém me da um iphone 13  to precisando 🥲</td>\n",
       "      <td>1</td>\n",
       "    </tr>\n",
       "    <tr>\n",
       "      <th>1</th>\n",
       "      <td>@vicmoura14 nem eu afinal aquele iphone 13 n v...</td>\n",
       "      <td>0</td>\n",
       "    </tr>\n",
       "    <tr>\n",
       "      <th>2</th>\n",
       "      <td>os outros 4 mentiram 😂 https //t co/vleieec9vm</td>\n",
       "      <td>0</td>\n",
       "    </tr>\n",
       "    <tr>\n",
       "      <th>3</th>\n",
       "      <td>@dosievil um macbook air 13  2 iphone 11 pro m...</td>\n",
       "      <td>0</td>\n",
       "    </tr>\n",
       "    <tr>\n",
       "      <th>4</th>\n",
       "      <td>já tá curioso pelo iphone 13  https //t co/wk8...</td>\n",
       "      <td>1</td>\n",
       "    </tr>\n",
       "    <tr>\n",
       "      <th>5</th>\n",
       "      <td>iphone 13  hora de conhecer o novo smartphone ...</td>\n",
       "      <td>1</td>\n",
       "    </tr>\n",
       "    <tr>\n",
       "      <th>6</th>\n",
       "      <td>@tahvit iphone 13       isso é tão 2020 eu vou...</td>\n",
       "      <td>1</td>\n",
       "    </tr>\n",
       "    <tr>\n",
       "      <th>7</th>\n",
       "      <td>@_cameraman_13 @viniccius13 não gosto de iphon...</td>\n",
       "      <td>1</td>\n",
       "    </tr>\n",
       "    <tr>\n",
       "      <th>8</th>\n",
       "      <td>já lançou o iphone 13  e eu não tenho nem o ip...</td>\n",
       "      <td>1</td>\n",
       "    </tr>\n",
       "    <tr>\n",
       "      <th>9</th>\n",
       "      <td>o apple watch 7 chegará com o iphone 13  mas t...</td>\n",
       "      <td>1</td>\n",
       "    </tr>\n",
       "  </tbody>\n",
       "</table>\n",
       "</div>"
      ],
      "text/plain": [
       "                                               Total  Classificador\n",
       "0         alguém me da um iphone 13  to precisando 🥲              1\n",
       "1  @vicmoura14 nem eu afinal aquele iphone 13 n v...              0\n",
       "2     os outros 4 mentiram 😂 https //t co/vleieec9vm              0\n",
       "3  @dosievil um macbook air 13  2 iphone 11 pro m...              0\n",
       "4  já tá curioso pelo iphone 13  https //t co/wk8...              1\n",
       "5  iphone 13  hora de conhecer o novo smartphone ...              1\n",
       "6  @tahvit iphone 13       isso é tão 2020 eu vou...              1\n",
       "7  @_cameraman_13 @viniccius13 não gosto de iphon...              1\n",
       "8  já lançou o iphone 13  e eu não tenho nem o ip...              1\n",
       "9  o apple watch 7 chegará com o iphone 13  mas t...              1"
      ]
     },
     "metadata": {},
     "execution_count": 35
    }
   ],
   "metadata": {}
  },
  {
   "cell_type": "code",
   "execution_count": 36,
   "source": [
    "lista_hist=[]\r\n",
    "lista_proporcao_r=[]\r\n",
    "numero_palavras_novas=[]\r\n",
    "\r\n",
    "# Fazendo o processo de classificação 500 vezes com separação de bases entre treinamento e teste aleatórias\r\n",
    "for i in range(0,100):\r\n",
    "    \r\n",
    "    X_train,X_test,y_train,y_test=train_test_split(train_and_test_merge[['Total','Classificador']],train_and_test_merge.Classificador,\r\n",
    "    test_size=0.3)\r\n",
    "\r\n",
    "    train_relevantes_new=X_train[X_train['Classificador']==1]\r\n",
    "    train_irrelevantes_new=X_train[X_train['Classificador']==0]\r\n",
    "\r\n",
    "    palavras_r_split= convert_to_words(train_relevantes_new['Total'])\r\n",
    "    palavras_i_split= convert_to_words(train_irrelevantes_new['Total'])\r\n",
    "    \r\n",
    "    rel_relevantes=palavras_r_split.value_counts()\r\n",
    "    rel_irrelevantes=palavras_i_split.value_counts()\r\n",
    "    \r\n",
    "    prop=palavras_r_split.shape[0]/(palavras_r_split.shape[0]+palavras_i_split.shape[0])\r\n",
    "    \r\n",
    "    list_i=palavras_i_split.tolist()\r\n",
    "    list_r=palavras_r_split.tolist()\r\n",
    "\r\n",
    "    total=pd.Series(list_i+list_r)\r\n",
    "\r\n",
    "    P_r=len(list_r)/len(total)\r\n",
    "    P_i=len(list_i)/len(total)\r\n",
    "    assert P_r+P_i==1\r\n",
    "\r\n",
    "    resultado = classificador(X_test)\r\n",
    "\r\n",
    "    X_test['Classificador Naive Bayes']= resultado\r\n",
    "\r\n",
    "    verdadeiro_positivo=X_test.loc[(X_test['Classificador Naive Bayes']==1)&(X_test['Classificador']==1),:].shape[0]\r\n",
    "    verdadeiro_negativo=X_test.loc[(X_test['Classificador Naive Bayes']==0)&(X_test['Classificador']==0),:].shape[0]\r\n",
    "    score=(verdadeiro_positivo+verdadeiro_negativo)/X_test.shape[0]\r\n",
    "    \r\n",
    "    lista_hist.append(score*100)\r\n",
    "    lista_proporcao_r.append(prop*100)"
   ],
   "outputs": [],
   "metadata": {}
  },
  {
   "cell_type": "markdown",
   "source": [
    "# Histograma\r\n",
    "___"
   ],
   "metadata": {}
  },
  {
   "cell_type": "markdown",
   "source": [
    "- Devemos garantir que não vamos excluir nenhum valor no nosso histograma, definindo o mínimo e máximo a partir da lista gerada na célula acima"
   ],
   "metadata": {}
  },
  {
   "cell_type": "code",
   "execution_count": 37,
   "source": [
    "# Definição do mínimo e máximo\r\n",
    "\r\n",
    "minimo_hist = min(lista_hist) - 2\r\n",
    "maximo_hist = max(lista_hist) + 2"
   ],
   "outputs": [],
   "metadata": {}
  },
  {
   "cell_type": "code",
   "execution_count": 38,
   "source": [
    "# Acertos para o modelo com cross-validation\r\n",
    "\r\n",
    "faixa = arange(0, 100, 1)\r\n",
    "\r\n",
    "plt.figure(figsize=(10, 5))\r\n",
    "plt.hist(lista_hist, bins=faixa, edgecolor='black', density=False)\r\n",
    "plt.title('Scores para o Modelo com cross-validation')\r\n",
    "plt.ylabel('Frequência')\r\n",
    "plt.xlabel('Porcentagem de acerto(%)')\r\n",
    "plt.xlim(minimo_hist, maximo_hist)\r\n",
    "plt.show()\r\n"
   ],
   "outputs": [
    {
     "output_type": "display_data",
     "data": {
      "image/png": "[encoded data removed]",
      "text/plain": [
       "<Figure size 720x360 with 1 Axes>"
      ]
     },
     "metadata": {
      "needs_background": "light"
     }
    }
   ],
   "metadata": {}
  },
  {
   "cell_type": "code",
   "execution_count": 39,
   "source": [
    "mean=sum(lista_hist)/len(lista_hist)\r\n",
    "mean\r\n",
    "max(lista_hist)\r\n",
    "print(f'Score máximo:\\t{max(lista_hist):.2f}\\nScore mínimo:\\t{min(lista_hist):.2f}\\nScore médio:\\t{mean:.2f}')"
   ],
   "outputs": [
    {
     "output_type": "stream",
     "name": "stdout",
     "text": [
      "Score máximo:\t86.67\n",
      "Score mínimo:\t75.33\n",
      "Score médio:\t81.22\n"
     ]
    }
   ],
   "metadata": {}
  },
  {
   "cell_type": "markdown",
   "source": [
    "# Conclusão\r\n",
    "___\r\n",
    "\r\n",
    "- Por que não podemos alimentar a base de Treinamento automaticamente usando o próprio classificador?\r\n",
    "\r\n",
    "\tTemos que relembrar que fatores como culturais, ironias integrados nos tweets é ignorados durante todo o processo de classificação e dessa forma prejudica a generalização do nosso banco de dados \r\n",
    "\tA classificação está em um processo manual e dessa forma se torna algo subjetivo de quem está classificando os tweets e talvez piore o desempenho do classificador e consequentemente diminuiria a acurácia do nosso projeto.\r\n",
    "___\r\n",
    "\r\n",
    "- Conclusão Geral \r\n",
    "\r\n",
    "\tO classificador realizado pela nossa dupla obteve uma performance razoável, analisando o nosso contexto e assim tivemos uma porcentagem de acerto de 71%.\r\n",
    "\tMas percebemos que para melhorar o índice de acertos do classificador é necessária uma implementação de um banco de dados maior, assim o classificador teria mais informações e consequentemente conseguiria fazer maiores relações e teria um aumento na probabilidade de acertos.\r\n",
    "___\r\n"
   ],
   "metadata": {}
  },
  {
   "cell_type": "markdown",
   "source": [
    "## Sugestões de melhorias reais\r\n"
   ],
   "metadata": {}
  },
  {
   "cell_type": "markdown",
   "source": [
    "___\n",
    "## Aperfeiçoamento:\n",
    "\n",
    "Trabalhos que conseguirem pelo menos conceito B vão evoluir em conceito dependendo da quantidade de itens avançados:\n",
    "\n",
    "* IMPLEMENTOU outras limpezas e transformações que não afetem a qualidade da informação contida nos tweets. Ex: stemming, lemmatization, stopwords\n",
    "* CORRIGIU separação de espaços entre palavras e emojis ou entre emojis e emojis\n",
    "* CRIOU categorias intermediárias de relevância baseadas na probabilidade: ex.: muito relevante, relevante, neutro, irrelevante, muito irrelevante. Pelo menos quatro categorias, com adição de mais tweets na base, conforme enunciado. (OBRIGATÓRIO PARA TRIOS, sem contar como item avançado)\n",
    "* EXPLICOU porquê não pode usar o próprio classificador para gerar mais amostras de treinamento\n",
    "* PROPÔS diferentes cenários para Naïve Bayes fora do contexto do projeto\n",
    "* SUGERIU e EXPLICOU melhorias reais com indicações concretas de como implementar (indicar como fazer e indicar material de pesquisa)\n",
    "* FEZ o item 6. Qualidade do Classificador a partir de novas separações dos tweets entre Treinamento e Teste descrito no enunciado do projeto (OBRIGATÓRIO para conceitos A ou A+)"
   ],
   "metadata": {},
   "attachments": {}
  },
  {
   "cell_type": "markdown",
   "source": [
    "___\n",
    "## Referências"
   ],
   "metadata": {}
  },
  {
   "cell_type": "markdown",
   "source": [
    "[Naive Bayes and Text Classification](https://arxiv.org/pdf/1410.5329.pdf)  **Mais completo**\n",
    "\n",
    "[A practical explanation of a Naive Bayes Classifier](https://monkeylearn.com/blog/practical-explanation-naive-bayes-classifier/) **Mais simples**"
   ],
   "metadata": {}
  },
  {
   "cell_type": "code",
   "execution_count": null,
   "source": [],
   "outputs": [],
   "metadata": {}
  }
 ],
 "metadata": {
  "kernelspec": {
   "name": "python3",
   "display_name": "Python 3.8.5 64-bit ('m': conda)"
  },
  "language_info": {
   "name": "python",
   "version": "3.8.5",
   "mimetype": "text/x-python",
   "codemirror_mode": {
    "name": "ipython",
    "version": 3
   },
   "pygments_lexer": "ipython3",
   "nbconvert_exporter": "python",
   "file_extension": ".py"
  },
  "interpreter": {
   "hash": "4187dd356b72c9e15b0cb19a1de7f0feddbadb26d6f26f07134e2bc1296873f6"
  }
 },
 "nbformat": 4,
 "nbformat_minor": 4
}